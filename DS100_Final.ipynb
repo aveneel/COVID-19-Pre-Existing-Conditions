{
 "cells": [
  {
   "cell_type": "markdown",
   "metadata": {
    "colab_type": "text",
    "id": "CTihsnbyIVYk"
   },
   "source": [
    "# What is the relationship between pre-existing health conditions and COVID-19?\n",
    "\n",
    "**Considering:** Number of positive test cases and number of deaths associated with each condition\n",
    "\n",
    "**Health Conditions:** Smoking, diabetes, cardiovascular disease, stroke"
   ]
  },
  {
   "cell_type": "markdown",
   "metadata": {
    "colab_type": "text",
    "id": "nGTu5uAfxzHR"
   },
   "source": [
    "# **Data Setup and Cleaning:**"
   ]
  },
  {
   "cell_type": "code",
   "execution_count": 80,
   "metadata": {
    "colab": {
     "base_uri": "https://localhost:8080/",
     "height": 173,
     "resources": {
      "http://localhost:8080/nbextensions/google.colab/files.js": {
       "data": "Ly8gQ29weXJpZ2h0IDIwMTcgR29vZ2xlIExMQwovLwovLyBMaWNlbnNlZCB1bmRlciB0aGUgQXBhY2hlIExpY2Vuc2UsIFZlcnNpb24gMi4wICh0aGUgIkxpY2Vuc2UiKTsKLy8geW91IG1heSBub3QgdXNlIHRoaXMgZmlsZSBleGNlcHQgaW4gY29tcGxpYW5jZSB3aXRoIHRoZSBMaWNlbnNlLgovLyBZb3UgbWF5IG9idGFpbiBhIGNvcHkgb2YgdGhlIExpY2Vuc2UgYXQKLy8KLy8gICAgICBodHRwOi8vd3d3LmFwYWNoZS5vcmcvbGljZW5zZXMvTElDRU5TRS0yLjAKLy8KLy8gVW5sZXNzIHJlcXVpcmVkIGJ5IGFwcGxpY2FibGUgbGF3IG9yIGFncmVlZCB0byBpbiB3cml0aW5nLCBzb2Z0d2FyZQovLyBkaXN0cmlidXRlZCB1bmRlciB0aGUgTGljZW5zZSBpcyBkaXN0cmlidXRlZCBvbiBhbiAiQVMgSVMiIEJBU0lTLAovLyBXSVRIT1VUIFdBUlJBTlRJRVMgT1IgQ09ORElUSU9OUyBPRiBBTlkgS0lORCwgZWl0aGVyIGV4cHJlc3Mgb3IgaW1wbGllZC4KLy8gU2VlIHRoZSBMaWNlbnNlIGZvciB0aGUgc3BlY2lmaWMgbGFuZ3VhZ2UgZ292ZXJuaW5nIHBlcm1pc3Npb25zIGFuZAovLyBsaW1pdGF0aW9ucyB1bmRlciB0aGUgTGljZW5zZS4KCi8qKgogKiBAZmlsZW92ZXJ2aWV3IEhlbHBlcnMgZm9yIGdvb2dsZS5jb2xhYiBQeXRob24gbW9kdWxlLgogKi8KKGZ1bmN0aW9uKHNjb3BlKSB7CmZ1bmN0aW9uIHNwYW4odGV4dCwgc3R5bGVBdHRyaWJ1dGVzID0ge30pIHsKICBjb25zdCBlbGVtZW50ID0gZG9jdW1lbnQuY3JlYXRlRWxlbWVudCgnc3BhbicpOwogIGVsZW1lbnQudGV4dENvbnRlbnQgPSB0ZXh0OwogIGZvciAoY29uc3Qga2V5IG9mIE9iamVjdC5rZXlzKHN0eWxlQXR0cmlidXRlcykpIHsKICAgIGVsZW1lbnQuc3R5bGVba2V5XSA9IHN0eWxlQXR0cmlidXRlc1trZXldOwogIH0KICByZXR1cm4gZWxlbWVudDsKfQoKLy8gTWF4IG51bWJlciBvZiBieXRlcyB3aGljaCB3aWxsIGJlIHVwbG9hZGVkIGF0IGEgdGltZS4KY29uc3QgTUFYX1BBWUxPQURfU0laRSA9IDEwMCAqIDEwMjQ7Ci8vIE1heCBhbW91bnQgb2YgdGltZSB0byBibG9jayB3YWl0aW5nIGZvciB0aGUgdXNlci4KY29uc3QgRklMRV9DSEFOR0VfVElNRU9VVF9NUyA9IDMwICogMTAwMDsKCmZ1bmN0aW9uIF91cGxvYWRGaWxlcyhpbnB1dElkLCBvdXRwdXRJZCkgewogIGNvbnN0IHN0ZXBzID0gdXBsb2FkRmlsZXNTdGVwKGlucHV0SWQsIG91dHB1dElkKTsKICBjb25zdCBvdXRwdXRFbGVtZW50ID0gZG9jdW1lbnQuZ2V0RWxlbWVudEJ5SWQob3V0cHV0SWQpOwogIC8vIENhY2hlIHN0ZXBzIG9uIHRoZSBvdXRwdXRFbGVtZW50IHRvIG1ha2UgaXQgYXZhaWxhYmxlIGZvciB0aGUgbmV4dCBjYWxsCiAgLy8gdG8gdXBsb2FkRmlsZXNDb250aW51ZSBmcm9tIFB5dGhvbi4KICBvdXRwdXRFbGVtZW50LnN0ZXBzID0gc3RlcHM7CgogIHJldHVybiBfdXBsb2FkRmlsZXNDb250aW51ZShvdXRwdXRJZCk7Cn0KCi8vIFRoaXMgaXMgcm91Z2hseSBhbiBhc3luYyBnZW5lcmF0b3IgKG5vdCBzdXBwb3J0ZWQgaW4gdGhlIGJyb3dzZXIgeWV0KSwKLy8gd2hlcmUgdGhlcmUgYXJlIG11bHRpcGxlIGFzeW5jaHJvbm91cyBzdGVwcyBhbmQgdGhlIFB5dGhvbiBzaWRlIGlzIGdvaW5nCi8vIHRvIHBvbGwgZm9yIGNvbXBsZXRpb24gb2YgZWFjaCBzdGVwLgovLyBUaGlzIHVzZXMgYSBQcm9taXNlIHRvIGJsb2NrIHRoZSBweXRob24gc2lkZSBvbiBjb21wbGV0aW9uIG9mIGVhY2ggc3RlcCwKLy8gdGhlbiBwYXNzZXMgdGhlIHJlc3VsdCBvZiB0aGUgcHJldmlvdXMgc3RlcCBhcyB0aGUgaW5wdXQgdG8gdGhlIG5leHQgc3RlcC4KZnVuY3Rpb24gX3VwbG9hZEZpbGVzQ29udGludWUob3V0cHV0SWQpIHsKICBjb25zdCBvdXRwdXRFbGVtZW50ID0gZG9jdW1lbnQuZ2V0RWxlbWVudEJ5SWQob3V0cHV0SWQpOwogIGNvbnN0IHN0ZXBzID0gb3V0cHV0RWxlbWVudC5zdGVwczsKCiAgY29uc3QgbmV4dCA9IHN0ZXBzLm5leHQob3V0cHV0RWxlbWVudC5sYXN0UHJvbWlzZVZhbHVlKTsKICByZXR1cm4gUHJvbWlzZS5yZXNvbHZlKG5leHQudmFsdWUucHJvbWlzZSkudGhlbigodmFsdWUpID0+IHsKICAgIC8vIENhY2hlIHRoZSBsYXN0IHByb21pc2UgdmFsdWUgdG8gbWFrZSBpdCBhdmFpbGFibGUgdG8gdGhlIG5leHQKICAgIC8vIHN0ZXAgb2YgdGhlIGdlbmVyYXRvci4KICAgIG91dHB1dEVsZW1lbnQubGFzdFByb21pc2VWYWx1ZSA9IHZhbHVlOwogICAgcmV0dXJuIG5leHQudmFsdWUucmVzcG9uc2U7CiAgfSk7Cn0KCi8qKgogKiBHZW5lcmF0b3IgZnVuY3Rpb24gd2hpY2ggaXMgY2FsbGVkIGJldHdlZW4gZWFjaCBhc3luYyBzdGVwIG9mIHRoZSB1cGxvYWQKICogcHJvY2Vzcy4KICogQHBhcmFtIHtzdHJpbmd9IGlucHV0SWQgRWxlbWVudCBJRCBvZiB0aGUgaW5wdXQgZmlsZSBwaWNrZXIgZWxlbWVudC4KICogQHBhcmFtIHtzdHJpbmd9IG91dHB1dElkIEVsZW1lbnQgSUQgb2YgdGhlIG91dHB1dCBkaXNwbGF5LgogKiBAcmV0dXJuIHshSXRlcmFibGU8IU9iamVjdD59IEl0ZXJhYmxlIG9mIG5leHQgc3RlcHMuCiAqLwpmdW5jdGlvbiogdXBsb2FkRmlsZXNTdGVwKGlucHV0SWQsIG91dHB1dElkKSB7CiAgY29uc3QgaW5wdXRFbGVtZW50ID0gZG9jdW1lbnQuZ2V0RWxlbWVudEJ5SWQoaW5wdXRJZCk7CiAgaW5wdXRFbGVtZW50LmRpc2FibGVkID0gZmFsc2U7CgogIGNvbnN0IG91dHB1dEVsZW1lbnQgPSBkb2N1bWVudC5nZXRFbGVtZW50QnlJZChvdXRwdXRJZCk7CiAgb3V0cHV0RWxlbWVudC5pbm5lckhUTUwgPSAnJzsKCiAgY29uc3QgcGlja2VkUHJvbWlzZSA9IG5ldyBQcm9taXNlKChyZXNvbHZlKSA9PiB7CiAgICBpbnB1dEVsZW1lbnQuYWRkRXZlbnRMaXN0ZW5lcignY2hhbmdlJywgKGUpID0+IHsKICAgICAgcmVzb2x2ZShlLnRhcmdldC5maWxlcyk7CiAgICB9KTsKICB9KTsKCiAgY29uc3QgY2FuY2VsID0gZG9jdW1lbnQuY3JlYXRlRWxlbWVudCgnYnV0dG9uJyk7CiAgaW5wdXRFbGVtZW50LnBhcmVudEVsZW1lbnQuYXBwZW5kQ2hpbGQoY2FuY2VsKTsKICBjYW5jZWwudGV4dENvbnRlbnQgPSAnQ2FuY2VsIHVwbG9hZCc7CiAgY29uc3QgY2FuY2VsUHJvbWlzZSA9IG5ldyBQcm9taXNlKChyZXNvbHZlKSA9PiB7CiAgICBjYW5jZWwub25jbGljayA9ICgpID0+IHsKICAgICAgcmVzb2x2ZShudWxsKTsKICAgIH07CiAgfSk7CgogIC8vIENhbmNlbCB1cGxvYWQgaWYgdXNlciBoYXNuJ3QgcGlja2VkIGFueXRoaW5nIGluIHRpbWVvdXQuCiAgY29uc3QgdGltZW91dFByb21pc2UgPSBuZXcgUHJvbWlzZSgocmVzb2x2ZSkgPT4gewogICAgc2V0VGltZW91dCgoKSA9PiB7CiAgICAgIHJlc29sdmUobnVsbCk7CiAgICB9LCBGSUxFX0NIQU5HRV9USU1FT1VUX01TKTsKICB9KTsKCiAgLy8gV2FpdCBmb3IgdGhlIHVzZXIgdG8gcGljayB0aGUgZmlsZXMuCiAgY29uc3QgZmlsZXMgPSB5aWVsZCB7CiAgICBwcm9taXNlOiBQcm9taXNlLnJhY2UoW3BpY2tlZFByb21pc2UsIHRpbWVvdXRQcm9taXNlLCBjYW5jZWxQcm9taXNlXSksCiAgICByZXNwb25zZTogewogICAgICBhY3Rpb246ICdzdGFydGluZycsCiAgICB9CiAgfTsKCiAgaWYgKCFmaWxlcykgewogICAgcmV0dXJuIHsKICAgICAgcmVzcG9uc2U6IHsKICAgICAgICBhY3Rpb246ICdjb21wbGV0ZScsCiAgICAgIH0KICAgIH07CiAgfQoKICBjYW5jZWwucmVtb3ZlKCk7CgogIC8vIERpc2FibGUgdGhlIGlucHV0IGVsZW1lbnQgc2luY2UgZnVydGhlciBwaWNrcyBhcmUgbm90IGFsbG93ZWQuCiAgaW5wdXRFbGVtZW50LmRpc2FibGVkID0gdHJ1ZTsKCiAgZm9yIChjb25zdCBmaWxlIG9mIGZpbGVzKSB7CiAgICBjb25zdCBsaSA9IGRvY3VtZW50LmNyZWF0ZUVsZW1lbnQoJ2xpJyk7CiAgICBsaS5hcHBlbmQoc3BhbihmaWxlLm5hbWUsIHtmb250V2VpZ2h0OiAnYm9sZCd9KSk7CiAgICBsaS5hcHBlbmQoc3BhbigKICAgICAgICBgKCR7ZmlsZS50eXBlIHx8ICduL2EnfSkgLSAke2ZpbGUuc2l6ZX0gYnl0ZXMsIGAgKwogICAgICAgIGBsYXN0IG1vZGlmaWVkOiAkewogICAgICAgICAgICBmaWxlLmxhc3RNb2RpZmllZERhdGUgPyBmaWxlLmxhc3RNb2RpZmllZERhdGUudG9Mb2NhbGVEYXRlU3RyaW5nKCkgOgogICAgICAgICAgICAgICAgICAgICAgICAgICAgICAgICAgICAnbi9hJ30gLSBgKSk7CiAgICBjb25zdCBwZXJjZW50ID0gc3BhbignMCUgZG9uZScpOwogICAgbGkuYXBwZW5kQ2hpbGQocGVyY2VudCk7CgogICAgb3V0cHV0RWxlbWVudC5hcHBlbmRDaGlsZChsaSk7CgogICAgY29uc3QgZmlsZURhdGFQcm9taXNlID0gbmV3IFByb21pc2UoKHJlc29sdmUpID0+IHsKICAgICAgY29uc3QgcmVhZGVyID0gbmV3IEZpbGVSZWFkZXIoKTsKICAgICAgcmVhZGVyLm9ubG9hZCA9IChlKSA9PiB7CiAgICAgICAgcmVzb2x2ZShlLnRhcmdldC5yZXN1bHQpOwogICAgICB9OwogICAgICByZWFkZXIucmVhZEFzQXJyYXlCdWZmZXIoZmlsZSk7CiAgICB9KTsKICAgIC8vIFdhaXQgZm9yIHRoZSBkYXRhIHRvIGJlIHJlYWR5LgogICAgbGV0IGZpbGVEYXRhID0geWllbGQgewogICAgICBwcm9taXNlOiBmaWxlRGF0YVByb21pc2UsCiAgICAgIHJlc3BvbnNlOiB7CiAgICAgICAgYWN0aW9uOiAnY29udGludWUnLAogICAgICB9CiAgICB9OwoKICAgIC8vIFVzZSBhIGNodW5rZWQgc2VuZGluZyB0byBhdm9pZCBtZXNzYWdlIHNpemUgbGltaXRzLiBTZWUgYi82MjExNTY2MC4KICAgIGxldCBwb3NpdGlvbiA9IDA7CiAgICB3aGlsZSAocG9zaXRpb24gPCBmaWxlRGF0YS5ieXRlTGVuZ3RoKSB7CiAgICAgIGNvbnN0IGxlbmd0aCA9IE1hdGgubWluKGZpbGVEYXRhLmJ5dGVMZW5ndGggLSBwb3NpdGlvbiwgTUFYX1BBWUxPQURfU0laRSk7CiAgICAgIGNvbnN0IGNodW5rID0gbmV3IFVpbnQ4QXJyYXkoZmlsZURhdGEsIHBvc2l0aW9uLCBsZW5ndGgpOwogICAgICBwb3NpdGlvbiArPSBsZW5ndGg7CgogICAgICBjb25zdCBiYXNlNjQgPSBidG9hKFN0cmluZy5mcm9tQ2hhckNvZGUuYXBwbHkobnVsbCwgY2h1bmspKTsKICAgICAgeWllbGQgewogICAgICAgIHJlc3BvbnNlOiB7CiAgICAgICAgICBhY3Rpb246ICdhcHBlbmQnLAogICAgICAgICAgZmlsZTogZmlsZS5uYW1lLAogICAgICAgICAgZGF0YTogYmFzZTY0LAogICAgICAgIH0sCiAgICAgIH07CiAgICAgIHBlcmNlbnQudGV4dENvbnRlbnQgPQogICAgICAgICAgYCR7TWF0aC5yb3VuZCgocG9zaXRpb24gLyBmaWxlRGF0YS5ieXRlTGVuZ3RoKSAqIDEwMCl9JSBkb25lYDsKICAgIH0KICB9CgogIC8vIEFsbCBkb25lLgogIHlpZWxkIHsKICAgIHJlc3BvbnNlOiB7CiAgICAgIGFjdGlvbjogJ2NvbXBsZXRlJywKICAgIH0KICB9Owp9CgpzY29wZS5nb29nbGUgPSBzY29wZS5nb29nbGUgfHwge307CnNjb3BlLmdvb2dsZS5jb2xhYiA9IHNjb3BlLmdvb2dsZS5jb2xhYiB8fCB7fTsKc2NvcGUuZ29vZ2xlLmNvbGFiLl9maWxlcyA9IHsKICBfdXBsb2FkRmlsZXMsCiAgX3VwbG9hZEZpbGVzQ29udGludWUsCn07Cn0pKHNlbGYpOwo=",
       "headers": [
        [
         "content-type",
         "application/javascript"
        ]
       ],
       "ok": true,
       "status": 200,
       "status_text": ""
      }
     }
    },
    "colab_type": "code",
    "id": "SHMkDuR4SWgV",
    "outputId": "20b6e282-58fa-4949-cd2b-5cdcb7616743"
   },
   "outputs": [],
   "source": [
    "import pandas as pd\n",
    "import numpy as np\n",
    "import matplotlib.pyplot as plt"
   ]
  },
  {
   "cell_type": "code",
   "execution_count": 81,
   "metadata": {
    "colab": {},
    "colab_type": "code",
    "id": "Tj3O2J9pVAT4"
   },
   "outputs": [],
   "source": [
    "# creating the dataframes to work with\n",
    "\n",
    "counties = pd.read_csv('abridged_couties.csv')\n",
    "confirmed = pd.read_csv('time_series_covid19_confirmed_US.csv')\n",
    "deaths = pd.read_csv('time_series_covid19_deaths_US.csv')\n",
    "states_april = pd.read_csv('4.18states.csv')"
   ]
  },
  {
   "cell_type": "code",
   "execution_count": 82,
   "metadata": {
    "colab": {
     "base_uri": "https://localhost:8080/",
     "height": 204
    },
    "colab_type": "code",
    "id": "d6_oUhBZE4Kw",
    "outputId": "c449b29d-4200-4e81-d407-c79e143cf15e"
   },
   "outputs": [
    {
     "data": {
      "text/html": [
       "<div>\n",
       "<style scoped>\n",
       "    .dataframe tbody tr th:only-of-type {\n",
       "        vertical-align: middle;\n",
       "    }\n",
       "\n",
       "    .dataframe tbody tr th {\n",
       "        vertical-align: top;\n",
       "    }\n",
       "\n",
       "    .dataframe thead th {\n",
       "        text-align: right;\n",
       "    }\n",
       "</style>\n",
       "<table border=\"1\" class=\"dataframe\">\n",
       "  <thead>\n",
       "    <tr style=\"text-align: right;\">\n",
       "      <th></th>\n",
       "      <th>Province_State</th>\n",
       "      <th>Confirmed</th>\n",
       "      <th>Deaths</th>\n",
       "      <th>Active</th>\n",
       "      <th>People_Tested</th>\n",
       "    </tr>\n",
       "  </thead>\n",
       "  <tbody>\n",
       "    <tr>\n",
       "      <th>0</th>\n",
       "      <td>Alabama</td>\n",
       "      <td>4712</td>\n",
       "      <td>153</td>\n",
       "      <td>4559.0</td>\n",
       "      <td>42538.0</td>\n",
       "    </tr>\n",
       "    <tr>\n",
       "      <th>1</th>\n",
       "      <td>Alaska</td>\n",
       "      <td>314</td>\n",
       "      <td>9</td>\n",
       "      <td>305.0</td>\n",
       "      <td>9655.0</td>\n",
       "    </tr>\n",
       "    <tr>\n",
       "      <th>2</th>\n",
       "      <td>American Samoa</td>\n",
       "      <td>0</td>\n",
       "      <td>0</td>\n",
       "      <td>0.0</td>\n",
       "      <td>3.0</td>\n",
       "    </tr>\n",
       "    <tr>\n",
       "      <th>3</th>\n",
       "      <td>Arizona</td>\n",
       "      <td>4724</td>\n",
       "      <td>180</td>\n",
       "      <td>4544.0</td>\n",
       "      <td>51045.0</td>\n",
       "    </tr>\n",
       "    <tr>\n",
       "      <th>4</th>\n",
       "      <td>Arkansas</td>\n",
       "      <td>1744</td>\n",
       "      <td>38</td>\n",
       "      <td>1706.0</td>\n",
       "      <td>24141.0</td>\n",
       "    </tr>\n",
       "  </tbody>\n",
       "</table>\n",
       "</div>"
      ],
      "text/plain": [
       "   Province_State  Confirmed  Deaths  Active  People_Tested\n",
       "0         Alabama       4712     153  4559.0        42538.0\n",
       "1          Alaska        314       9   305.0         9655.0\n",
       "2  American Samoa          0       0     0.0            3.0\n",
       "3         Arizona       4724     180  4544.0        51045.0\n",
       "4        Arkansas       1744      38  1706.0        24141.0"
      ]
     },
     "execution_count": 82,
     "metadata": {},
     "output_type": "execute_result"
    }
   ],
   "source": [
    "#cleaning data sets\n",
    "states_april = states_april[['Province_State', 'Confirmed', 'Deaths', 'Active','People_Tested']]\n",
    "states_april = states_april.fillna(0)\n",
    "states_april.head()"
   ]
  },
  {
   "cell_type": "code",
   "execution_count": 83,
   "metadata": {
    "colab": {
     "base_uri": "https://localhost:8080/",
     "height": 204
    },
    "colab_type": "code",
    "id": "IHCR5r2JH-Cd",
    "outputId": "98c4d92b-592c-4d1f-83f0-a5d4dea9b90a"
   },
   "outputs": [
    {
     "data": {
      "text/html": [
       "<div>\n",
       "<style scoped>\n",
       "    .dataframe tbody tr th:only-of-type {\n",
       "        vertical-align: middle;\n",
       "    }\n",
       "\n",
       "    .dataframe tbody tr th {\n",
       "        vertical-align: top;\n",
       "    }\n",
       "\n",
       "    .dataframe thead th {\n",
       "        text-align: right;\n",
       "    }\n",
       "</style>\n",
       "<table border=\"1\" class=\"dataframe\">\n",
       "  <thead>\n",
       "    <tr style=\"text-align: right;\">\n",
       "      <th></th>\n",
       "      <th>CountyName</th>\n",
       "      <th>State</th>\n",
       "      <th>PopulationEstimate2018</th>\n",
       "      <th>DiabetesPercentage</th>\n",
       "      <th>HeartDiseaseMortality</th>\n",
       "      <th>StrokeMortality</th>\n",
       "      <th>Smokers_Percentage</th>\n",
       "    </tr>\n",
       "  </thead>\n",
       "  <tbody>\n",
       "    <tr>\n",
       "      <th>0</th>\n",
       "      <td>Autauga</td>\n",
       "      <td>Alabama</td>\n",
       "      <td>55601.0</td>\n",
       "      <td>9.9</td>\n",
       "      <td>204.5</td>\n",
       "      <td>56.1</td>\n",
       "      <td>18.081557</td>\n",
       "    </tr>\n",
       "    <tr>\n",
       "      <th>1</th>\n",
       "      <td>Baldwin</td>\n",
       "      <td>Alabama</td>\n",
       "      <td>218022.0</td>\n",
       "      <td>8.5</td>\n",
       "      <td>183.2</td>\n",
       "      <td>41.9</td>\n",
       "      <td>17.489033</td>\n",
       "    </tr>\n",
       "    <tr>\n",
       "      <th>2</th>\n",
       "      <td>Barbour</td>\n",
       "      <td>Alabama</td>\n",
       "      <td>24881.0</td>\n",
       "      <td>15.7</td>\n",
       "      <td>220.4</td>\n",
       "      <td>49.0</td>\n",
       "      <td>21.999985</td>\n",
       "    </tr>\n",
       "    <tr>\n",
       "      <th>3</th>\n",
       "      <td>Bibb</td>\n",
       "      <td>Alabama</td>\n",
       "      <td>22400.0</td>\n",
       "      <td>13.3</td>\n",
       "      <td>225.5</td>\n",
       "      <td>57.2</td>\n",
       "      <td>19.114200</td>\n",
       "    </tr>\n",
       "    <tr>\n",
       "      <th>4</th>\n",
       "      <td>Blount</td>\n",
       "      <td>Alabama</td>\n",
       "      <td>57840.0</td>\n",
       "      <td>14.9</td>\n",
       "      <td>224.8</td>\n",
       "      <td>52.8</td>\n",
       "      <td>19.208672</td>\n",
       "    </tr>\n",
       "  </tbody>\n",
       "</table>\n",
       "</div>"
      ],
      "text/plain": [
       "  CountyName    State  PopulationEstimate2018  DiabetesPercentage  \\\n",
       "0    Autauga  Alabama                 55601.0                 9.9   \n",
       "1    Baldwin  Alabama                218022.0                 8.5   \n",
       "2    Barbour  Alabama                 24881.0                15.7   \n",
       "3       Bibb  Alabama                 22400.0                13.3   \n",
       "4     Blount  Alabama                 57840.0                14.9   \n",
       "\n",
       "   HeartDiseaseMortality  StrokeMortality  Smokers_Percentage  \n",
       "0                  204.5             56.1           18.081557  \n",
       "1                  183.2             41.9           17.489033  \n",
       "2                  220.4             49.0           21.999985  \n",
       "3                  225.5             57.2           19.114200  \n",
       "4                  224.8             52.8           19.208672  "
      ]
     },
     "execution_count": 83,
     "metadata": {},
     "output_type": "execute_result"
    }
   ],
   "source": [
    "counties = counties[['CountyName', 'State', 'PopulationEstimate2018', 'DiabetesPercentage', 'HeartDiseaseMortality', 'StrokeMortality', 'Smokers_Percentage']]\n",
    "counties = counties[counties[\"State\"].isnull() == False]\n",
    "counties = counties.fillna(0)\n",
    "counties.head()"
   ]
  },
  {
   "cell_type": "markdown",
   "metadata": {
    "colab_type": "text",
    "id": "bEvT-wJDGH3c"
   },
   "source": [
    "Find more information pertaining to the counties dataframe here: https://github.com/Yu-Group/covid19-severity-prediction/blob/master/data/list_of_columns.md"
   ]
  },
  {
   "cell_type": "code",
   "execution_count": 84,
   "metadata": {
    "colab": {
     "base_uri": "https://localhost:8080/",
     "height": 358
    },
    "colab_type": "code",
    "id": "ALv9kqocMGAw",
    "outputId": "005e5200-4796-4309-e262-dba95bf29f58"
   },
   "outputs": [
    {
     "data": {
      "text/html": [
       "<div>\n",
       "<style scoped>\n",
       "    .dataframe tbody tr th:only-of-type {\n",
       "        vertical-align: middle;\n",
       "    }\n",
       "\n",
       "    .dataframe tbody tr th {\n",
       "        vertical-align: top;\n",
       "    }\n",
       "\n",
       "    .dataframe thead th {\n",
       "        text-align: right;\n",
       "    }\n",
       "</style>\n",
       "<table border=\"1\" class=\"dataframe\">\n",
       "  <thead>\n",
       "    <tr style=\"text-align: right;\">\n",
       "      <th></th>\n",
       "      <th>Province_State</th>\n",
       "      <th>1/22/20</th>\n",
       "      <th>1/23/20</th>\n",
       "      <th>1/24/20</th>\n",
       "      <th>1/25/20</th>\n",
       "      <th>1/26/20</th>\n",
       "      <th>1/27/20</th>\n",
       "      <th>1/28/20</th>\n",
       "      <th>1/29/20</th>\n",
       "      <th>1/30/20</th>\n",
       "      <th>...</th>\n",
       "      <th>4/9/20</th>\n",
       "      <th>4/10/20</th>\n",
       "      <th>4/11/20</th>\n",
       "      <th>4/12/20</th>\n",
       "      <th>4/13/20</th>\n",
       "      <th>4/14/20</th>\n",
       "      <th>4/15/20</th>\n",
       "      <th>4/16/20</th>\n",
       "      <th>4/17/20</th>\n",
       "      <th>4/18/20</th>\n",
       "    </tr>\n",
       "  </thead>\n",
       "  <tbody>\n",
       "    <tr>\n",
       "      <th>0</th>\n",
       "      <td>Alabama</td>\n",
       "      <td>0.0</td>\n",
       "      <td>0.0</td>\n",
       "      <td>0.0</td>\n",
       "      <td>0.0</td>\n",
       "      <td>0.000000</td>\n",
       "      <td>0.000000</td>\n",
       "      <td>0.000000</td>\n",
       "      <td>0.000000</td>\n",
       "      <td>0.000000</td>\n",
       "      <td>...</td>\n",
       "      <td>39.173913</td>\n",
       "      <td>42.710145</td>\n",
       "      <td>46.623188</td>\n",
       "      <td>51.637681</td>\n",
       "      <td>54.115942</td>\n",
       "      <td>57.289855</td>\n",
       "      <td>59.057971</td>\n",
       "      <td>62.971014</td>\n",
       "      <td>66.246377</td>\n",
       "      <td>68.289855</td>\n",
       "    </tr>\n",
       "    <tr>\n",
       "      <th>1</th>\n",
       "      <td>Alaska</td>\n",
       "      <td>0.0</td>\n",
       "      <td>0.0</td>\n",
       "      <td>0.0</td>\n",
       "      <td>0.0</td>\n",
       "      <td>0.000000</td>\n",
       "      <td>0.000000</td>\n",
       "      <td>0.000000</td>\n",
       "      <td>0.000000</td>\n",
       "      <td>0.000000</td>\n",
       "      <td>...</td>\n",
       "      <td>7.580645</td>\n",
       "      <td>7.935484</td>\n",
       "      <td>8.290323</td>\n",
       "      <td>8.774194</td>\n",
       "      <td>8.935484</td>\n",
       "      <td>9.193548</td>\n",
       "      <td>9.451613</td>\n",
       "      <td>9.677419</td>\n",
       "      <td>9.967742</td>\n",
       "      <td>10.129032</td>\n",
       "    </tr>\n",
       "    <tr>\n",
       "      <th>2</th>\n",
       "      <td>Arizona</td>\n",
       "      <td>0.0</td>\n",
       "      <td>0.0</td>\n",
       "      <td>0.0</td>\n",
       "      <td>0.0</td>\n",
       "      <td>0.058824</td>\n",
       "      <td>0.058824</td>\n",
       "      <td>0.058824</td>\n",
       "      <td>0.058824</td>\n",
       "      <td>0.058824</td>\n",
       "      <td>...</td>\n",
       "      <td>177.529412</td>\n",
       "      <td>183.058824</td>\n",
       "      <td>199.588235</td>\n",
       "      <td>208.352941</td>\n",
       "      <td>217.941176</td>\n",
       "      <td>224.058824</td>\n",
       "      <td>233.176471</td>\n",
       "      <td>249.235294</td>\n",
       "      <td>265.352941</td>\n",
       "      <td>277.882353</td>\n",
       "    </tr>\n",
       "    <tr>\n",
       "      <th>3</th>\n",
       "      <td>Arkansas</td>\n",
       "      <td>0.0</td>\n",
       "      <td>0.0</td>\n",
       "      <td>0.0</td>\n",
       "      <td>0.0</td>\n",
       "      <td>0.000000</td>\n",
       "      <td>0.000000</td>\n",
       "      <td>0.000000</td>\n",
       "      <td>0.000000</td>\n",
       "      <td>0.000000</td>\n",
       "      <td>...</td>\n",
       "      <td>14.532468</td>\n",
       "      <td>15.207792</td>\n",
       "      <td>15.948052</td>\n",
       "      <td>16.623377</td>\n",
       "      <td>18.311688</td>\n",
       "      <td>19.454545</td>\n",
       "      <td>20.376623</td>\n",
       "      <td>21.038961</td>\n",
       "      <td>22.012987</td>\n",
       "      <td>22.649351</td>\n",
       "    </tr>\n",
       "    <tr>\n",
       "      <th>4</th>\n",
       "      <td>California</td>\n",
       "      <td>0.0</td>\n",
       "      <td>0.0</td>\n",
       "      <td>0.0</td>\n",
       "      <td>0.0</td>\n",
       "      <td>0.033333</td>\n",
       "      <td>0.033333</td>\n",
       "      <td>0.033333</td>\n",
       "      <td>0.033333</td>\n",
       "      <td>0.033333</td>\n",
       "      <td>...</td>\n",
       "      <td>328.500000</td>\n",
       "      <td>351.350000</td>\n",
       "      <td>361.766667</td>\n",
       "      <td>379.916667</td>\n",
       "      <td>398.850000</td>\n",
       "      <td>422.600000</td>\n",
       "      <td>444.766667</td>\n",
       "      <td>461.283333</td>\n",
       "      <td>485.950000</td>\n",
       "      <td>508.183333</td>\n",
       "    </tr>\n",
       "  </tbody>\n",
       "</table>\n",
       "<p>5 rows × 89 columns</p>\n",
       "</div>"
      ],
      "text/plain": [
       "  Province_State  1/22/20  1/23/20  1/24/20  1/25/20   1/26/20   1/27/20  \\\n",
       "0        Alabama      0.0      0.0      0.0      0.0  0.000000  0.000000   \n",
       "1         Alaska      0.0      0.0      0.0      0.0  0.000000  0.000000   \n",
       "2        Arizona      0.0      0.0      0.0      0.0  0.058824  0.058824   \n",
       "3       Arkansas      0.0      0.0      0.0      0.0  0.000000  0.000000   \n",
       "4     California      0.0      0.0      0.0      0.0  0.033333  0.033333   \n",
       "\n",
       "    1/28/20   1/29/20   1/30/20  ...      4/9/20     4/10/20     4/11/20  \\\n",
       "0  0.000000  0.000000  0.000000  ...   39.173913   42.710145   46.623188   \n",
       "1  0.000000  0.000000  0.000000  ...    7.580645    7.935484    8.290323   \n",
       "2  0.058824  0.058824  0.058824  ...  177.529412  183.058824  199.588235   \n",
       "3  0.000000  0.000000  0.000000  ...   14.532468   15.207792   15.948052   \n",
       "4  0.033333  0.033333  0.033333  ...  328.500000  351.350000  361.766667   \n",
       "\n",
       "      4/12/20     4/13/20     4/14/20     4/15/20     4/16/20     4/17/20  \\\n",
       "0   51.637681   54.115942   57.289855   59.057971   62.971014   66.246377   \n",
       "1    8.774194    8.935484    9.193548    9.451613    9.677419    9.967742   \n",
       "2  208.352941  217.941176  224.058824  233.176471  249.235294  265.352941   \n",
       "3   16.623377   18.311688   19.454545   20.376623   21.038961   22.012987   \n",
       "4  379.916667  398.850000  422.600000  444.766667  461.283333  485.950000   \n",
       "\n",
       "      4/18/20  \n",
       "0   68.289855  \n",
       "1   10.129032  \n",
       "2  277.882353  \n",
       "3   22.649351  \n",
       "4  508.183333  \n",
       "\n",
       "[5 rows x 89 columns]"
      ]
     },
     "execution_count": 84,
     "metadata": {},
     "output_type": "execute_result"
    }
   ],
   "source": [
    "#Cleaning confirmed dataframe and grouping by state\n",
    "\n",
    "confirmed = confirmed.dropna()\n",
    "confirmed = confirmed.groupby(by=\"Province_State\", as_index=False).mean()\n",
    "confirmed = confirmed.drop(columns={\"UID\", \"code3\", \"FIPS\", \"Lat\", \"Long_\"})\n",
    "confirmed.head()"
   ]
  },
  {
   "cell_type": "code",
   "execution_count": 85,
   "metadata": {
    "colab": {
     "base_uri": "https://localhost:8080/",
     "height": 358
    },
    "colab_type": "code",
    "id": "NedLJ8ZkMH4D",
    "outputId": "bb130053-3d3e-4e66-a385-880b67201db9"
   },
   "outputs": [
    {
     "data": {
      "text/html": [
       "<div>\n",
       "<style scoped>\n",
       "    .dataframe tbody tr th:only-of-type {\n",
       "        vertical-align: middle;\n",
       "    }\n",
       "\n",
       "    .dataframe tbody tr th {\n",
       "        vertical-align: top;\n",
       "    }\n",
       "\n",
       "    .dataframe thead th {\n",
       "        text-align: right;\n",
       "    }\n",
       "</style>\n",
       "<table border=\"1\" class=\"dataframe\">\n",
       "  <thead>\n",
       "    <tr style=\"text-align: right;\">\n",
       "      <th></th>\n",
       "      <th>Province_State</th>\n",
       "      <th>Population</th>\n",
       "      <th>1/22/20</th>\n",
       "      <th>1/23/20</th>\n",
       "      <th>1/24/20</th>\n",
       "      <th>1/25/20</th>\n",
       "      <th>1/26/20</th>\n",
       "      <th>1/27/20</th>\n",
       "      <th>1/28/20</th>\n",
       "      <th>1/29/20</th>\n",
       "      <th>...</th>\n",
       "      <th>4/9/20</th>\n",
       "      <th>4/10/20</th>\n",
       "      <th>4/11/20</th>\n",
       "      <th>4/12/20</th>\n",
       "      <th>4/13/20</th>\n",
       "      <th>4/14/20</th>\n",
       "      <th>4/15/20</th>\n",
       "      <th>4/16/20</th>\n",
       "      <th>4/17/20</th>\n",
       "      <th>4/18/20</th>\n",
       "    </tr>\n",
       "  </thead>\n",
       "  <tbody>\n",
       "    <tr>\n",
       "      <th>0</th>\n",
       "      <td>Alabama</td>\n",
       "      <td>71060.652174</td>\n",
       "      <td>0.0</td>\n",
       "      <td>0.0</td>\n",
       "      <td>0.0</td>\n",
       "      <td>0.0</td>\n",
       "      <td>0.0</td>\n",
       "      <td>0.0</td>\n",
       "      <td>0.0</td>\n",
       "      <td>0.0</td>\n",
       "      <td>...</td>\n",
       "      <td>1.014493</td>\n",
       "      <td>1.159420</td>\n",
       "      <td>1.333333</td>\n",
       "      <td>1.347826</td>\n",
       "      <td>1.434783</td>\n",
       "      <td>1.652174</td>\n",
       "      <td>1.710145</td>\n",
       "      <td>1.927536</td>\n",
       "      <td>2.144928</td>\n",
       "      <td>2.217391</td>\n",
       "    </tr>\n",
       "    <tr>\n",
       "      <th>1</th>\n",
       "      <td>Alaska</td>\n",
       "      <td>23598.225806</td>\n",
       "      <td>0.0</td>\n",
       "      <td>0.0</td>\n",
       "      <td>0.0</td>\n",
       "      <td>0.0</td>\n",
       "      <td>0.0</td>\n",
       "      <td>0.0</td>\n",
       "      <td>0.0</td>\n",
       "      <td>0.0</td>\n",
       "      <td>...</td>\n",
       "      <td>0.225806</td>\n",
       "      <td>0.225806</td>\n",
       "      <td>0.258065</td>\n",
       "      <td>0.258065</td>\n",
       "      <td>0.258065</td>\n",
       "      <td>0.290323</td>\n",
       "      <td>0.290323</td>\n",
       "      <td>0.290323</td>\n",
       "      <td>0.290323</td>\n",
       "      <td>0.290323</td>\n",
       "    </tr>\n",
       "    <tr>\n",
       "      <th>2</th>\n",
       "      <td>Arizona</td>\n",
       "      <td>428159.823529</td>\n",
       "      <td>0.0</td>\n",
       "      <td>0.0</td>\n",
       "      <td>0.0</td>\n",
       "      <td>0.0</td>\n",
       "      <td>0.0</td>\n",
       "      <td>0.0</td>\n",
       "      <td>0.0</td>\n",
       "      <td>0.0</td>\n",
       "      <td>...</td>\n",
       "      <td>5.235294</td>\n",
       "      <td>5.705882</td>\n",
       "      <td>6.352941</td>\n",
       "      <td>6.764706</td>\n",
       "      <td>7.176471</td>\n",
       "      <td>7.705882</td>\n",
       "      <td>8.352941</td>\n",
       "      <td>8.823529</td>\n",
       "      <td>9.941176</td>\n",
       "      <td>10.588235</td>\n",
       "    </tr>\n",
       "    <tr>\n",
       "      <th>3</th>\n",
       "      <td>Arkansas</td>\n",
       "      <td>39192.259740</td>\n",
       "      <td>0.0</td>\n",
       "      <td>0.0</td>\n",
       "      <td>0.0</td>\n",
       "      <td>0.0</td>\n",
       "      <td>0.0</td>\n",
       "      <td>0.0</td>\n",
       "      <td>0.0</td>\n",
       "      <td>0.0</td>\n",
       "      <td>...</td>\n",
       "      <td>0.272727</td>\n",
       "      <td>0.272727</td>\n",
       "      <td>0.324675</td>\n",
       "      <td>0.350649</td>\n",
       "      <td>0.376623</td>\n",
       "      <td>0.415584</td>\n",
       "      <td>0.428571</td>\n",
       "      <td>0.480519</td>\n",
       "      <td>0.480519</td>\n",
       "      <td>0.493506</td>\n",
       "    </tr>\n",
       "    <tr>\n",
       "      <th>4</th>\n",
       "      <td>California</td>\n",
       "      <td>658537.050000</td>\n",
       "      <td>0.0</td>\n",
       "      <td>0.0</td>\n",
       "      <td>0.0</td>\n",
       "      <td>0.0</td>\n",
       "      <td>0.0</td>\n",
       "      <td>0.0</td>\n",
       "      <td>0.0</td>\n",
       "      <td>0.0</td>\n",
       "      <td>...</td>\n",
       "      <td>9.066667</td>\n",
       "      <td>9.716667</td>\n",
       "      <td>10.066667</td>\n",
       "      <td>10.666667</td>\n",
       "      <td>11.900000</td>\n",
       "      <td>12.783333</td>\n",
       "      <td>14.333333</td>\n",
       "      <td>15.933333</td>\n",
       "      <td>17.283333</td>\n",
       "      <td>19.000000</td>\n",
       "    </tr>\n",
       "  </tbody>\n",
       "</table>\n",
       "<p>5 rows × 90 columns</p>\n",
       "</div>"
      ],
      "text/plain": [
       "  Province_State     Population  1/22/20  1/23/20  1/24/20  1/25/20  1/26/20  \\\n",
       "0        Alabama   71060.652174      0.0      0.0      0.0      0.0      0.0   \n",
       "1         Alaska   23598.225806      0.0      0.0      0.0      0.0      0.0   \n",
       "2        Arizona  428159.823529      0.0      0.0      0.0      0.0      0.0   \n",
       "3       Arkansas   39192.259740      0.0      0.0      0.0      0.0      0.0   \n",
       "4     California  658537.050000      0.0      0.0      0.0      0.0      0.0   \n",
       "\n",
       "   1/27/20  1/28/20  1/29/20  ...    4/9/20   4/10/20    4/11/20    4/12/20  \\\n",
       "0      0.0      0.0      0.0  ...  1.014493  1.159420   1.333333   1.347826   \n",
       "1      0.0      0.0      0.0  ...  0.225806  0.225806   0.258065   0.258065   \n",
       "2      0.0      0.0      0.0  ...  5.235294  5.705882   6.352941   6.764706   \n",
       "3      0.0      0.0      0.0  ...  0.272727  0.272727   0.324675   0.350649   \n",
       "4      0.0      0.0      0.0  ...  9.066667  9.716667  10.066667  10.666667   \n",
       "\n",
       "     4/13/20    4/14/20    4/15/20    4/16/20    4/17/20    4/18/20  \n",
       "0   1.434783   1.652174   1.710145   1.927536   2.144928   2.217391  \n",
       "1   0.258065   0.290323   0.290323   0.290323   0.290323   0.290323  \n",
       "2   7.176471   7.705882   8.352941   8.823529   9.941176  10.588235  \n",
       "3   0.376623   0.415584   0.428571   0.480519   0.480519   0.493506  \n",
       "4  11.900000  12.783333  14.333333  15.933333  17.283333  19.000000  \n",
       "\n",
       "[5 rows x 90 columns]"
      ]
     },
     "execution_count": 85,
     "metadata": {},
     "output_type": "execute_result"
    }
   ],
   "source": [
    "#Cleaning deaths dataframe and grouping by state\n",
    "\n",
    "deaths = deaths.dropna()\n",
    "deaths = deaths.groupby(by=\"Province_State\", as_index=False).mean()\n",
    "deaths = deaths.drop(columns={\"UID\", \"code3\", \"FIPS\", \"Lat\", \"Long_\"})\n",
    "deaths.head()"
   ]
  },
  {
   "cell_type": "markdown",
   "metadata": {
    "colab_type": "text",
    "id": "A-NfZMxLOOtp"
   },
   "source": [
    "# **Exploratory Data Analysis (EDA):**"
   ]
  },
  {
   "cell_type": "markdown",
   "metadata": {
    "colab_type": "text",
    "id": "QOl_LHeLF30u"
   },
   "source": [
    "## **Exploring death rates and positive test rates in different states.**"
   ]
  },
  {
   "cell_type": "code",
   "execution_count": 86,
   "metadata": {
    "colab": {
     "base_uri": "https://localhost:8080/",
     "height": 204
    },
    "colab_type": "code",
    "id": "J2alPOSuEDYY",
    "outputId": "5138a99a-4500-487a-fa7c-1b9e4ab68285"
   },
   "outputs": [
    {
     "data": {
      "text/html": [
       "<div>\n",
       "<style scoped>\n",
       "    .dataframe tbody tr th:only-of-type {\n",
       "        vertical-align: middle;\n",
       "    }\n",
       "\n",
       "    .dataframe tbody tr th {\n",
       "        vertical-align: top;\n",
       "    }\n",
       "\n",
       "    .dataframe thead th {\n",
       "        text-align: right;\n",
       "    }\n",
       "</style>\n",
       "<table border=\"1\" class=\"dataframe\">\n",
       "  <thead>\n",
       "    <tr style=\"text-align: right;\">\n",
       "      <th></th>\n",
       "      <th>State</th>\n",
       "      <th>Death_Rate</th>\n",
       "      <th>Positive_Rate</th>\n",
       "    </tr>\n",
       "  </thead>\n",
       "  <tbody>\n",
       "    <tr>\n",
       "      <th>0</th>\n",
       "      <td>Alabama</td>\n",
       "      <td>3.247029</td>\n",
       "      <td>11.077155</td>\n",
       "    </tr>\n",
       "    <tr>\n",
       "      <th>1</th>\n",
       "      <td>Arizona</td>\n",
       "      <td>3.810330</td>\n",
       "      <td>9.254579</td>\n",
       "    </tr>\n",
       "    <tr>\n",
       "      <th>2</th>\n",
       "      <td>Arkansas</td>\n",
       "      <td>2.178899</td>\n",
       "      <td>7.224224</td>\n",
       "    </tr>\n",
       "    <tr>\n",
       "      <th>3</th>\n",
       "      <td>California</td>\n",
       "      <td>3.738808</td>\n",
       "      <td>12.118165</td>\n",
       "    </tr>\n",
       "    <tr>\n",
       "      <th>4</th>\n",
       "      <td>Colorado</td>\n",
       "      <td>4.299768</td>\n",
       "      <td>20.890387</td>\n",
       "    </tr>\n",
       "  </tbody>\n",
       "</table>\n",
       "</div>"
      ],
      "text/plain": [
       "        State  Death_Rate  Positive_Rate\n",
       "0     Alabama    3.247029      11.077155\n",
       "1     Arizona    3.810330       9.254579\n",
       "2    Arkansas    2.178899       7.224224\n",
       "3  California    3.738808      12.118165\n",
       "4    Colorado    4.299768      20.890387"
      ]
     },
     "execution_count": 86,
     "metadata": {},
     "output_type": "execute_result"
    }
   ],
   "source": [
    "#Finding the death rates and positive rates for each state in the US\n",
    "\n",
    "explore = counties[[\"CountyName\", \"State\"]]\n",
    "explore = explore.dropna()\n",
    "explore = explore.groupby(by=\"State\", as_index=False).count()\n",
    "explore = explore.merge(states_april, left_on='State', right_on='Province_State')\n",
    "explore = explore[[\"State\", \"Confirmed\", \"Deaths\", \"People_Tested\"]]\n",
    "explore[\"Death_Rate\"] = (explore[\"Deaths\"] / explore[\"Confirmed\"]) * 100\n",
    "explore[\"Positive_Rate\"] = (explore[\"Confirmed\"] / explore[\"People_Tested\"]) * 100\n",
    "explore = explore.drop(columns=[\"Confirmed\", \"Deaths\", \"People_Tested\"])\n",
    "explore.head()"
   ]
  },
  {
   "cell_type": "code",
   "execution_count": 87,
   "metadata": {
    "colab": {
     "base_uri": "https://localhost:8080/",
     "height": 817
    },
    "colab_type": "code",
    "id": "aHVB4bJWKu2w",
    "outputId": "94550e3e-0367-4f41-c7d9-4a1d395d323c"
   },
   "outputs": [
    {
     "data": {
      "application/vnd.plotly.v1+json": {
       "config": {
        "plotlyServerURL": "https://plot.ly"
       },
       "data": [
        {
         "hoverlabel": {
          "namelength": 0
         },
         "hovertemplate": "Death_Rate=%{x}<br>Positive_Rate=%{y}<br>State=%{text}",
         "legendgroup": "",
         "marker": {
          "color": "#636efa",
          "symbol": "circle"
         },
         "mode": "markers+text",
         "name": "",
         "showlegend": false,
         "text": [
          "Alabama",
          "Arizona",
          "Arkansas",
          "California",
          "Colorado",
          "Connecticut",
          "Delaware",
          "Florida",
          "Georgia",
          "Idaho",
          "Illinois",
          "Indiana",
          "Iowa",
          "Kansas",
          "Kentucky",
          "Louisiana",
          "Maine",
          "Maryland",
          "Massachusetts",
          "Michigan",
          "Minnesota",
          "Mississippi",
          "Missouri",
          "Montana",
          "Nebraska",
          "Nevada",
          "New Hampshire",
          "New Jersey",
          "New Mexico",
          "New York",
          "North Carolina",
          "North Dakota",
          "Ohio",
          "Oklahoma",
          "Oregon",
          "Pennsylvania",
          "Rhode Island",
          "South Carolina",
          "South Dakota",
          "Tennessee",
          "Texas",
          "Utah",
          "Vermont",
          "Virginia",
          "Washington",
          "West Virginia",
          "Wisconsin",
          "Wyoming"
         ],
         "textposition": "top center",
         "type": "scatter",
         "x": [
          3.2470288624787775,
          3.810330228619814,
          2.1788990825688073,
          3.7388081729034797,
          4.299767878854869,
          6.188034188034188,
          2.639873916469661,
          2.934253883571316,
          3.808930895919407,
          2.598187311178248,
          4.3175582990397805,
          5.121699088431538,
          2.9446876243533624,
          4.667764964305326,
          5.319541928333949,
          5.373197625106022,
          3.778040141676505,
          3.4155443777381147,
          3.860112174199934,
          7.495696794517878,
          5.4775916704391125,
          3.824861600402617,
          3.531098763219215,
          2.3474178403755865,
          1.921537229783827,
          4.164368450082736,
          2.8315946348733236,
          4.998771800540408,
          2.947719688542825,
          7.310766532071225,
          2.9551201011378003,
          1.7045454545454544,
          4.41205243592252,
          5.517241379310345,
          3.9045553145336225,
          3.292051055225578,
          3.050545535515475,
          2.8013182674199624,
          0.4539559014267186,
          2.1551069965093337,
          2.5449101796407185,
          0.8570449091532397,
          4.732254047322541,
          3.203774990686701,
          5.205502717391304,
          2.038216560509554,
          5.0488211478923555,
          0.6472491909385114
         ],
         "xaxis": "x",
         "y": [
          11.07715454417227,
          9.254579292780878,
          7.224224348618533,
          12.118165125946886,
          20.890387235319924,
          31.64328729580614,
          18.10658486123992,
          10.340449524798501,
          23.810101336783095,
          9.96447709073394,
          21.22208960437833,
          18.71010848733142,
          10.951322612977732,
          10.302104548540393,
          8.847561772780756,
          17.087080341161894,
          5.675802452589962,
          18.855744225179745,
          23.19554098695203,
          30.875289540445415,
          4.99006054034517,
          10.251515542370695,
          10.37779720604922,
          4.030655691172296,
          9.132119616875045,
          11.791486455725018,
          10.44195455960162,
          50.09351774376138,
          5.048718164715132,
          40.51953625287495,
          8.303263308446288,
          4.073131219625087,
          12.978998958835927,
          6.9366276452048625,
          4.906473671606844,
          20.557919007566657,
          13.681228294644491,
          10.939149692272036,
          13.224699828473414,
          7.273750910736758,
          10.61286094451285,
          4.866208461230482,
          6.3902594302084985,
          15.507115210567868,
          8.94649274085104,
          4.038065843621399,
          8.718672785033533,
          4.7378104875804965
         ],
         "yaxis": "y"
        }
       ],
       "layout": {
        "height": 800,
        "legend": {
         "tracegroupgap": 0
        },
        "margin": {
         "t": 60
        },
        "template": {
         "data": {
          "bar": [
           {
            "error_x": {
             "color": "#2a3f5f"
            },
            "error_y": {
             "color": "#2a3f5f"
            },
            "marker": {
             "line": {
              "color": "#E5ECF6",
              "width": 0.5
             }
            },
            "type": "bar"
           }
          ],
          "barpolar": [
           {
            "marker": {
             "line": {
              "color": "#E5ECF6",
              "width": 0.5
             }
            },
            "type": "barpolar"
           }
          ],
          "carpet": [
           {
            "aaxis": {
             "endlinecolor": "#2a3f5f",
             "gridcolor": "white",
             "linecolor": "white",
             "minorgridcolor": "white",
             "startlinecolor": "#2a3f5f"
            },
            "baxis": {
             "endlinecolor": "#2a3f5f",
             "gridcolor": "white",
             "linecolor": "white",
             "minorgridcolor": "white",
             "startlinecolor": "#2a3f5f"
            },
            "type": "carpet"
           }
          ],
          "choropleth": [
           {
            "colorbar": {
             "outlinewidth": 0,
             "ticks": ""
            },
            "type": "choropleth"
           }
          ],
          "contour": [
           {
            "colorbar": {
             "outlinewidth": 0,
             "ticks": ""
            },
            "colorscale": [
             [
              0,
              "#0d0887"
             ],
             [
              0.1111111111111111,
              "#46039f"
             ],
             [
              0.2222222222222222,
              "#7201a8"
             ],
             [
              0.3333333333333333,
              "#9c179e"
             ],
             [
              0.4444444444444444,
              "#bd3786"
             ],
             [
              0.5555555555555556,
              "#d8576b"
             ],
             [
              0.6666666666666666,
              "#ed7953"
             ],
             [
              0.7777777777777778,
              "#fb9f3a"
             ],
             [
              0.8888888888888888,
              "#fdca26"
             ],
             [
              1,
              "#f0f921"
             ]
            ],
            "type": "contour"
           }
          ],
          "contourcarpet": [
           {
            "colorbar": {
             "outlinewidth": 0,
             "ticks": ""
            },
            "type": "contourcarpet"
           }
          ],
          "heatmap": [
           {
            "colorbar": {
             "outlinewidth": 0,
             "ticks": ""
            },
            "colorscale": [
             [
              0,
              "#0d0887"
             ],
             [
              0.1111111111111111,
              "#46039f"
             ],
             [
              0.2222222222222222,
              "#7201a8"
             ],
             [
              0.3333333333333333,
              "#9c179e"
             ],
             [
              0.4444444444444444,
              "#bd3786"
             ],
             [
              0.5555555555555556,
              "#d8576b"
             ],
             [
              0.6666666666666666,
              "#ed7953"
             ],
             [
              0.7777777777777778,
              "#fb9f3a"
             ],
             [
              0.8888888888888888,
              "#fdca26"
             ],
             [
              1,
              "#f0f921"
             ]
            ],
            "type": "heatmap"
           }
          ],
          "heatmapgl": [
           {
            "colorbar": {
             "outlinewidth": 0,
             "ticks": ""
            },
            "colorscale": [
             [
              0,
              "#0d0887"
             ],
             [
              0.1111111111111111,
              "#46039f"
             ],
             [
              0.2222222222222222,
              "#7201a8"
             ],
             [
              0.3333333333333333,
              "#9c179e"
             ],
             [
              0.4444444444444444,
              "#bd3786"
             ],
             [
              0.5555555555555556,
              "#d8576b"
             ],
             [
              0.6666666666666666,
              "#ed7953"
             ],
             [
              0.7777777777777778,
              "#fb9f3a"
             ],
             [
              0.8888888888888888,
              "#fdca26"
             ],
             [
              1,
              "#f0f921"
             ]
            ],
            "type": "heatmapgl"
           }
          ],
          "histogram": [
           {
            "marker": {
             "colorbar": {
              "outlinewidth": 0,
              "ticks": ""
             }
            },
            "type": "histogram"
           }
          ],
          "histogram2d": [
           {
            "colorbar": {
             "outlinewidth": 0,
             "ticks": ""
            },
            "colorscale": [
             [
              0,
              "#0d0887"
             ],
             [
              0.1111111111111111,
              "#46039f"
             ],
             [
              0.2222222222222222,
              "#7201a8"
             ],
             [
              0.3333333333333333,
              "#9c179e"
             ],
             [
              0.4444444444444444,
              "#bd3786"
             ],
             [
              0.5555555555555556,
              "#d8576b"
             ],
             [
              0.6666666666666666,
              "#ed7953"
             ],
             [
              0.7777777777777778,
              "#fb9f3a"
             ],
             [
              0.8888888888888888,
              "#fdca26"
             ],
             [
              1,
              "#f0f921"
             ]
            ],
            "type": "histogram2d"
           }
          ],
          "histogram2dcontour": [
           {
            "colorbar": {
             "outlinewidth": 0,
             "ticks": ""
            },
            "colorscale": [
             [
              0,
              "#0d0887"
             ],
             [
              0.1111111111111111,
              "#46039f"
             ],
             [
              0.2222222222222222,
              "#7201a8"
             ],
             [
              0.3333333333333333,
              "#9c179e"
             ],
             [
              0.4444444444444444,
              "#bd3786"
             ],
             [
              0.5555555555555556,
              "#d8576b"
             ],
             [
              0.6666666666666666,
              "#ed7953"
             ],
             [
              0.7777777777777778,
              "#fb9f3a"
             ],
             [
              0.8888888888888888,
              "#fdca26"
             ],
             [
              1,
              "#f0f921"
             ]
            ],
            "type": "histogram2dcontour"
           }
          ],
          "mesh3d": [
           {
            "colorbar": {
             "outlinewidth": 0,
             "ticks": ""
            },
            "type": "mesh3d"
           }
          ],
          "parcoords": [
           {
            "line": {
             "colorbar": {
              "outlinewidth": 0,
              "ticks": ""
             }
            },
            "type": "parcoords"
           }
          ],
          "pie": [
           {
            "automargin": true,
            "type": "pie"
           }
          ],
          "scatter": [
           {
            "marker": {
             "colorbar": {
              "outlinewidth": 0,
              "ticks": ""
             }
            },
            "type": "scatter"
           }
          ],
          "scatter3d": [
           {
            "line": {
             "colorbar": {
              "outlinewidth": 0,
              "ticks": ""
             }
            },
            "marker": {
             "colorbar": {
              "outlinewidth": 0,
              "ticks": ""
             }
            },
            "type": "scatter3d"
           }
          ],
          "scattercarpet": [
           {
            "marker": {
             "colorbar": {
              "outlinewidth": 0,
              "ticks": ""
             }
            },
            "type": "scattercarpet"
           }
          ],
          "scattergeo": [
           {
            "marker": {
             "colorbar": {
              "outlinewidth": 0,
              "ticks": ""
             }
            },
            "type": "scattergeo"
           }
          ],
          "scattergl": [
           {
            "marker": {
             "colorbar": {
              "outlinewidth": 0,
              "ticks": ""
             }
            },
            "type": "scattergl"
           }
          ],
          "scattermapbox": [
           {
            "marker": {
             "colorbar": {
              "outlinewidth": 0,
              "ticks": ""
             }
            },
            "type": "scattermapbox"
           }
          ],
          "scatterpolar": [
           {
            "marker": {
             "colorbar": {
              "outlinewidth": 0,
              "ticks": ""
             }
            },
            "type": "scatterpolar"
           }
          ],
          "scatterpolargl": [
           {
            "marker": {
             "colorbar": {
              "outlinewidth": 0,
              "ticks": ""
             }
            },
            "type": "scatterpolargl"
           }
          ],
          "scatterternary": [
           {
            "marker": {
             "colorbar": {
              "outlinewidth": 0,
              "ticks": ""
             }
            },
            "type": "scatterternary"
           }
          ],
          "surface": [
           {
            "colorbar": {
             "outlinewidth": 0,
             "ticks": ""
            },
            "colorscale": [
             [
              0,
              "#0d0887"
             ],
             [
              0.1111111111111111,
              "#46039f"
             ],
             [
              0.2222222222222222,
              "#7201a8"
             ],
             [
              0.3333333333333333,
              "#9c179e"
             ],
             [
              0.4444444444444444,
              "#bd3786"
             ],
             [
              0.5555555555555556,
              "#d8576b"
             ],
             [
              0.6666666666666666,
              "#ed7953"
             ],
             [
              0.7777777777777778,
              "#fb9f3a"
             ],
             [
              0.8888888888888888,
              "#fdca26"
             ],
             [
              1,
              "#f0f921"
             ]
            ],
            "type": "surface"
           }
          ],
          "table": [
           {
            "cells": {
             "fill": {
              "color": "#EBF0F8"
             },
             "line": {
              "color": "white"
             }
            },
            "header": {
             "fill": {
              "color": "#C8D4E3"
             },
             "line": {
              "color": "white"
             }
            },
            "type": "table"
           }
          ]
         },
         "layout": {
          "annotationdefaults": {
           "arrowcolor": "#2a3f5f",
           "arrowhead": 0,
           "arrowwidth": 1
          },
          "coloraxis": {
           "colorbar": {
            "outlinewidth": 0,
            "ticks": ""
           }
          },
          "colorscale": {
           "diverging": [
            [
             0,
             "#8e0152"
            ],
            [
             0.1,
             "#c51b7d"
            ],
            [
             0.2,
             "#de77ae"
            ],
            [
             0.3,
             "#f1b6da"
            ],
            [
             0.4,
             "#fde0ef"
            ],
            [
             0.5,
             "#f7f7f7"
            ],
            [
             0.6,
             "#e6f5d0"
            ],
            [
             0.7,
             "#b8e186"
            ],
            [
             0.8,
             "#7fbc41"
            ],
            [
             0.9,
             "#4d9221"
            ],
            [
             1,
             "#276419"
            ]
           ],
           "sequential": [
            [
             0,
             "#0d0887"
            ],
            [
             0.1111111111111111,
             "#46039f"
            ],
            [
             0.2222222222222222,
             "#7201a8"
            ],
            [
             0.3333333333333333,
             "#9c179e"
            ],
            [
             0.4444444444444444,
             "#bd3786"
            ],
            [
             0.5555555555555556,
             "#d8576b"
            ],
            [
             0.6666666666666666,
             "#ed7953"
            ],
            [
             0.7777777777777778,
             "#fb9f3a"
            ],
            [
             0.8888888888888888,
             "#fdca26"
            ],
            [
             1,
             "#f0f921"
            ]
           ],
           "sequentialminus": [
            [
             0,
             "#0d0887"
            ],
            [
             0.1111111111111111,
             "#46039f"
            ],
            [
             0.2222222222222222,
             "#7201a8"
            ],
            [
             0.3333333333333333,
             "#9c179e"
            ],
            [
             0.4444444444444444,
             "#bd3786"
            ],
            [
             0.5555555555555556,
             "#d8576b"
            ],
            [
             0.6666666666666666,
             "#ed7953"
            ],
            [
             0.7777777777777778,
             "#fb9f3a"
            ],
            [
             0.8888888888888888,
             "#fdca26"
            ],
            [
             1,
             "#f0f921"
            ]
           ]
          },
          "colorway": [
           "#636efa",
           "#EF553B",
           "#00cc96",
           "#ab63fa",
           "#FFA15A",
           "#19d3f3",
           "#FF6692",
           "#B6E880",
           "#FF97FF",
           "#FECB52"
          ],
          "font": {
           "color": "#2a3f5f"
          },
          "geo": {
           "bgcolor": "white",
           "lakecolor": "white",
           "landcolor": "#E5ECF6",
           "showlakes": true,
           "showland": true,
           "subunitcolor": "white"
          },
          "hoverlabel": {
           "align": "left"
          },
          "hovermode": "closest",
          "mapbox": {
           "style": "light"
          },
          "paper_bgcolor": "white",
          "plot_bgcolor": "#E5ECF6",
          "polar": {
           "angularaxis": {
            "gridcolor": "white",
            "linecolor": "white",
            "ticks": ""
           },
           "bgcolor": "#E5ECF6",
           "radialaxis": {
            "gridcolor": "white",
            "linecolor": "white",
            "ticks": ""
           }
          },
          "scene": {
           "xaxis": {
            "backgroundcolor": "#E5ECF6",
            "gridcolor": "white",
            "gridwidth": 2,
            "linecolor": "white",
            "showbackground": true,
            "ticks": "",
            "zerolinecolor": "white"
           },
           "yaxis": {
            "backgroundcolor": "#E5ECF6",
            "gridcolor": "white",
            "gridwidth": 2,
            "linecolor": "white",
            "showbackground": true,
            "ticks": "",
            "zerolinecolor": "white"
           },
           "zaxis": {
            "backgroundcolor": "#E5ECF6",
            "gridcolor": "white",
            "gridwidth": 2,
            "linecolor": "white",
            "showbackground": true,
            "ticks": "",
            "zerolinecolor": "white"
           }
          },
          "shapedefaults": {
           "line": {
            "color": "#2a3f5f"
           }
          },
          "ternary": {
           "aaxis": {
            "gridcolor": "white",
            "linecolor": "white",
            "ticks": ""
           },
           "baxis": {
            "gridcolor": "white",
            "linecolor": "white",
            "ticks": ""
           },
           "bgcolor": "#E5ECF6",
           "caxis": {
            "gridcolor": "white",
            "linecolor": "white",
            "ticks": ""
           }
          },
          "title": {
           "x": 0.05
          },
          "xaxis": {
           "automargin": true,
           "gridcolor": "white",
           "linecolor": "white",
           "ticks": "",
           "title": {
            "standoff": 15
           },
           "zerolinecolor": "white",
           "zerolinewidth": 2
          },
          "yaxis": {
           "automargin": true,
           "gridcolor": "white",
           "linecolor": "white",
           "ticks": "",
           "title": {
            "standoff": 15
           },
           "zerolinecolor": "white",
           "zerolinewidth": 2
          }
         }
        },
        "title": {
         "text": "US States and Death/Positive Rates"
        },
        "xaxis": {
         "anchor": "y",
         "domain": [
          0,
          1
         ],
         "title": {
          "text": "Death_Rate"
         }
        },
        "yaxis": {
         "anchor": "x",
         "domain": [
          0,
          1
         ],
         "title": {
          "text": "Positive_Rate"
         }
        }
       }
      },
      "text/html": [
       "<div>\n",
       "        \n",
       "        \n",
       "            <div id=\"3d5a9fa5-4f6f-4ebb-b7dd-80a62d58ece8\" class=\"plotly-graph-div\" style=\"height:800px; width:100%;\"></div>\n",
       "            <script type=\"text/javascript\">\n",
       "                require([\"plotly\"], function(Plotly) {\n",
       "                    window.PLOTLYENV=window.PLOTLYENV || {};\n",
       "                    \n",
       "                if (document.getElementById(\"3d5a9fa5-4f6f-4ebb-b7dd-80a62d58ece8\")) {\n",
       "                    Plotly.newPlot(\n",
       "                        '3d5a9fa5-4f6f-4ebb-b7dd-80a62d58ece8',\n",
       "                        [{\"hoverlabel\": {\"namelength\": 0}, \"hovertemplate\": \"Death_Rate=%{x}<br>Positive_Rate=%{y}<br>State=%{text}\", \"legendgroup\": \"\", \"marker\": {\"color\": \"#636efa\", \"symbol\": \"circle\"}, \"mode\": \"markers+text\", \"name\": \"\", \"showlegend\": false, \"text\": [\"Alabama\", \"Arizona\", \"Arkansas\", \"California\", \"Colorado\", \"Connecticut\", \"Delaware\", \"Florida\", \"Georgia\", \"Idaho\", \"Illinois\", \"Indiana\", \"Iowa\", \"Kansas\", \"Kentucky\", \"Louisiana\", \"Maine\", \"Maryland\", \"Massachusetts\", \"Michigan\", \"Minnesota\", \"Mississippi\", \"Missouri\", \"Montana\", \"Nebraska\", \"Nevada\", \"New Hampshire\", \"New Jersey\", \"New Mexico\", \"New York\", \"North Carolina\", \"North Dakota\", \"Ohio\", \"Oklahoma\", \"Oregon\", \"Pennsylvania\", \"Rhode Island\", \"South Carolina\", \"South Dakota\", \"Tennessee\", \"Texas\", \"Utah\", \"Vermont\", \"Virginia\", \"Washington\", \"West Virginia\", \"Wisconsin\", \"Wyoming\"], \"textposition\": \"top center\", \"type\": \"scatter\", \"x\": [3.2470288624787775, 3.810330228619814, 2.1788990825688073, 3.7388081729034797, 4.299767878854869, 6.188034188034188, 2.639873916469661, 2.934253883571316, 3.808930895919407, 2.598187311178248, 4.3175582990397805, 5.121699088431538, 2.9446876243533624, 4.667764964305326, 5.319541928333949, 5.373197625106022, 3.778040141676505, 3.4155443777381147, 3.860112174199934, 7.495696794517878, 5.4775916704391125, 3.824861600402617, 3.531098763219215, 2.3474178403755865, 1.921537229783827, 4.164368450082736, 2.8315946348733236, 4.998771800540408, 2.947719688542825, 7.310766532071225, 2.9551201011378003, 1.7045454545454544, 4.41205243592252, 5.517241379310345, 3.9045553145336225, 3.292051055225578, 3.050545535515475, 2.8013182674199624, 0.4539559014267186, 2.1551069965093337, 2.5449101796407185, 0.8570449091532397, 4.732254047322541, 3.203774990686701, 5.205502717391304, 2.038216560509554, 5.0488211478923555, 0.6472491909385114], \"xaxis\": \"x\", \"y\": [11.07715454417227, 9.254579292780878, 7.224224348618533, 12.118165125946886, 20.890387235319924, 31.64328729580614, 18.10658486123992, 10.340449524798501, 23.810101336783095, 9.96447709073394, 21.22208960437833, 18.71010848733142, 10.951322612977732, 10.302104548540393, 8.847561772780756, 17.087080341161894, 5.675802452589962, 18.855744225179745, 23.19554098695203, 30.875289540445415, 4.99006054034517, 10.251515542370695, 10.37779720604922, 4.030655691172296, 9.132119616875045, 11.791486455725018, 10.44195455960162, 50.09351774376138, 5.048718164715132, 40.51953625287495, 8.303263308446288, 4.073131219625087, 12.978998958835927, 6.9366276452048625, 4.906473671606844, 20.557919007566657, 13.681228294644491, 10.939149692272036, 13.224699828473414, 7.273750910736758, 10.61286094451285, 4.866208461230482, 6.3902594302084985, 15.507115210567868, 8.94649274085104, 4.038065843621399, 8.718672785033533, 4.7378104875804965], \"yaxis\": \"y\"}],\n",
       "                        {\"height\": 800, \"legend\": {\"tracegroupgap\": 0}, \"margin\": {\"t\": 60}, \"template\": {\"data\": {\"bar\": [{\"error_x\": {\"color\": \"#2a3f5f\"}, \"error_y\": {\"color\": \"#2a3f5f\"}, \"marker\": {\"line\": {\"color\": \"#E5ECF6\", \"width\": 0.5}}, \"type\": \"bar\"}], \"barpolar\": [{\"marker\": {\"line\": {\"color\": \"#E5ECF6\", \"width\": 0.5}}, \"type\": \"barpolar\"}], \"carpet\": [{\"aaxis\": {\"endlinecolor\": \"#2a3f5f\", \"gridcolor\": \"white\", \"linecolor\": \"white\", \"minorgridcolor\": \"white\", \"startlinecolor\": \"#2a3f5f\"}, \"baxis\": {\"endlinecolor\": \"#2a3f5f\", \"gridcolor\": \"white\", \"linecolor\": \"white\", \"minorgridcolor\": \"white\", \"startlinecolor\": \"#2a3f5f\"}, \"type\": \"carpet\"}], \"choropleth\": [{\"colorbar\": {\"outlinewidth\": 0, \"ticks\": \"\"}, \"type\": \"choropleth\"}], \"contour\": [{\"colorbar\": {\"outlinewidth\": 0, \"ticks\": \"\"}, \"colorscale\": [[0.0, \"#0d0887\"], [0.1111111111111111, \"#46039f\"], [0.2222222222222222, \"#7201a8\"], [0.3333333333333333, \"#9c179e\"], [0.4444444444444444, \"#bd3786\"], [0.5555555555555556, \"#d8576b\"], [0.6666666666666666, \"#ed7953\"], [0.7777777777777778, \"#fb9f3a\"], [0.8888888888888888, \"#fdca26\"], [1.0, \"#f0f921\"]], \"type\": \"contour\"}], \"contourcarpet\": [{\"colorbar\": {\"outlinewidth\": 0, \"ticks\": \"\"}, \"type\": \"contourcarpet\"}], \"heatmap\": [{\"colorbar\": {\"outlinewidth\": 0, \"ticks\": \"\"}, \"colorscale\": [[0.0, \"#0d0887\"], [0.1111111111111111, \"#46039f\"], [0.2222222222222222, \"#7201a8\"], [0.3333333333333333, \"#9c179e\"], [0.4444444444444444, \"#bd3786\"], [0.5555555555555556, \"#d8576b\"], [0.6666666666666666, \"#ed7953\"], [0.7777777777777778, \"#fb9f3a\"], [0.8888888888888888, \"#fdca26\"], [1.0, \"#f0f921\"]], \"type\": \"heatmap\"}], \"heatmapgl\": [{\"colorbar\": {\"outlinewidth\": 0, \"ticks\": \"\"}, \"colorscale\": [[0.0, \"#0d0887\"], [0.1111111111111111, \"#46039f\"], [0.2222222222222222, \"#7201a8\"], [0.3333333333333333, \"#9c179e\"], [0.4444444444444444, \"#bd3786\"], [0.5555555555555556, \"#d8576b\"], [0.6666666666666666, \"#ed7953\"], [0.7777777777777778, \"#fb9f3a\"], [0.8888888888888888, \"#fdca26\"], [1.0, \"#f0f921\"]], \"type\": \"heatmapgl\"}], \"histogram\": [{\"marker\": {\"colorbar\": {\"outlinewidth\": 0, \"ticks\": \"\"}}, \"type\": \"histogram\"}], \"histogram2d\": [{\"colorbar\": {\"outlinewidth\": 0, \"ticks\": \"\"}, \"colorscale\": [[0.0, \"#0d0887\"], [0.1111111111111111, \"#46039f\"], [0.2222222222222222, \"#7201a8\"], [0.3333333333333333, \"#9c179e\"], [0.4444444444444444, \"#bd3786\"], [0.5555555555555556, \"#d8576b\"], [0.6666666666666666, \"#ed7953\"], [0.7777777777777778, \"#fb9f3a\"], [0.8888888888888888, \"#fdca26\"], [1.0, \"#f0f921\"]], \"type\": \"histogram2d\"}], \"histogram2dcontour\": [{\"colorbar\": {\"outlinewidth\": 0, \"ticks\": \"\"}, \"colorscale\": [[0.0, \"#0d0887\"], [0.1111111111111111, \"#46039f\"], [0.2222222222222222, \"#7201a8\"], [0.3333333333333333, \"#9c179e\"], [0.4444444444444444, \"#bd3786\"], [0.5555555555555556, \"#d8576b\"], [0.6666666666666666, \"#ed7953\"], [0.7777777777777778, \"#fb9f3a\"], [0.8888888888888888, \"#fdca26\"], [1.0, \"#f0f921\"]], \"type\": \"histogram2dcontour\"}], \"mesh3d\": [{\"colorbar\": {\"outlinewidth\": 0, \"ticks\": \"\"}, \"type\": \"mesh3d\"}], \"parcoords\": [{\"line\": {\"colorbar\": {\"outlinewidth\": 0, \"ticks\": \"\"}}, \"type\": \"parcoords\"}], \"pie\": [{\"automargin\": true, \"type\": \"pie\"}], \"scatter\": [{\"marker\": {\"colorbar\": {\"outlinewidth\": 0, \"ticks\": \"\"}}, \"type\": \"scatter\"}], \"scatter3d\": [{\"line\": {\"colorbar\": {\"outlinewidth\": 0, \"ticks\": \"\"}}, \"marker\": {\"colorbar\": {\"outlinewidth\": 0, \"ticks\": \"\"}}, \"type\": \"scatter3d\"}], \"scattercarpet\": [{\"marker\": {\"colorbar\": {\"outlinewidth\": 0, \"ticks\": \"\"}}, \"type\": \"scattercarpet\"}], \"scattergeo\": [{\"marker\": {\"colorbar\": {\"outlinewidth\": 0, \"ticks\": \"\"}}, \"type\": \"scattergeo\"}], \"scattergl\": [{\"marker\": {\"colorbar\": {\"outlinewidth\": 0, \"ticks\": \"\"}}, \"type\": \"scattergl\"}], \"scattermapbox\": [{\"marker\": {\"colorbar\": {\"outlinewidth\": 0, \"ticks\": \"\"}}, \"type\": \"scattermapbox\"}], \"scatterpolar\": [{\"marker\": {\"colorbar\": {\"outlinewidth\": 0, \"ticks\": \"\"}}, \"type\": \"scatterpolar\"}], \"scatterpolargl\": [{\"marker\": {\"colorbar\": {\"outlinewidth\": 0, \"ticks\": \"\"}}, \"type\": \"scatterpolargl\"}], \"scatterternary\": [{\"marker\": {\"colorbar\": {\"outlinewidth\": 0, \"ticks\": \"\"}}, \"type\": \"scatterternary\"}], \"surface\": [{\"colorbar\": {\"outlinewidth\": 0, \"ticks\": \"\"}, \"colorscale\": [[0.0, \"#0d0887\"], [0.1111111111111111, \"#46039f\"], [0.2222222222222222, \"#7201a8\"], [0.3333333333333333, \"#9c179e\"], [0.4444444444444444, \"#bd3786\"], [0.5555555555555556, \"#d8576b\"], [0.6666666666666666, \"#ed7953\"], [0.7777777777777778, \"#fb9f3a\"], [0.8888888888888888, \"#fdca26\"], [1.0, \"#f0f921\"]], \"type\": \"surface\"}], \"table\": [{\"cells\": {\"fill\": {\"color\": \"#EBF0F8\"}, \"line\": {\"color\": \"white\"}}, \"header\": {\"fill\": {\"color\": \"#C8D4E3\"}, \"line\": {\"color\": \"white\"}}, \"type\": \"table\"}]}, \"layout\": {\"annotationdefaults\": {\"arrowcolor\": \"#2a3f5f\", \"arrowhead\": 0, \"arrowwidth\": 1}, \"coloraxis\": {\"colorbar\": {\"outlinewidth\": 0, \"ticks\": \"\"}}, \"colorscale\": {\"diverging\": [[0, \"#8e0152\"], [0.1, \"#c51b7d\"], [0.2, \"#de77ae\"], [0.3, \"#f1b6da\"], [0.4, \"#fde0ef\"], [0.5, \"#f7f7f7\"], [0.6, \"#e6f5d0\"], [0.7, \"#b8e186\"], [0.8, \"#7fbc41\"], [0.9, \"#4d9221\"], [1, \"#276419\"]], \"sequential\": [[0.0, \"#0d0887\"], [0.1111111111111111, \"#46039f\"], [0.2222222222222222, \"#7201a8\"], [0.3333333333333333, \"#9c179e\"], [0.4444444444444444, \"#bd3786\"], [0.5555555555555556, \"#d8576b\"], [0.6666666666666666, \"#ed7953\"], [0.7777777777777778, \"#fb9f3a\"], [0.8888888888888888, \"#fdca26\"], [1.0, \"#f0f921\"]], \"sequentialminus\": [[0.0, \"#0d0887\"], [0.1111111111111111, \"#46039f\"], [0.2222222222222222, \"#7201a8\"], [0.3333333333333333, \"#9c179e\"], [0.4444444444444444, \"#bd3786\"], [0.5555555555555556, \"#d8576b\"], [0.6666666666666666, \"#ed7953\"], [0.7777777777777778, \"#fb9f3a\"], [0.8888888888888888, \"#fdca26\"], [1.0, \"#f0f921\"]]}, \"colorway\": [\"#636efa\", \"#EF553B\", \"#00cc96\", \"#ab63fa\", \"#FFA15A\", \"#19d3f3\", \"#FF6692\", \"#B6E880\", \"#FF97FF\", \"#FECB52\"], \"font\": {\"color\": \"#2a3f5f\"}, \"geo\": {\"bgcolor\": \"white\", \"lakecolor\": \"white\", \"landcolor\": \"#E5ECF6\", \"showlakes\": true, \"showland\": true, \"subunitcolor\": \"white\"}, \"hoverlabel\": {\"align\": \"left\"}, \"hovermode\": \"closest\", \"mapbox\": {\"style\": \"light\"}, \"paper_bgcolor\": \"white\", \"plot_bgcolor\": \"#E5ECF6\", \"polar\": {\"angularaxis\": {\"gridcolor\": \"white\", \"linecolor\": \"white\", \"ticks\": \"\"}, \"bgcolor\": \"#E5ECF6\", \"radialaxis\": {\"gridcolor\": \"white\", \"linecolor\": \"white\", \"ticks\": \"\"}}, \"scene\": {\"xaxis\": {\"backgroundcolor\": \"#E5ECF6\", \"gridcolor\": \"white\", \"gridwidth\": 2, \"linecolor\": \"white\", \"showbackground\": true, \"ticks\": \"\", \"zerolinecolor\": \"white\"}, \"yaxis\": {\"backgroundcolor\": \"#E5ECF6\", \"gridcolor\": \"white\", \"gridwidth\": 2, \"linecolor\": \"white\", \"showbackground\": true, \"ticks\": \"\", \"zerolinecolor\": \"white\"}, \"zaxis\": {\"backgroundcolor\": \"#E5ECF6\", \"gridcolor\": \"white\", \"gridwidth\": 2, \"linecolor\": \"white\", \"showbackground\": true, \"ticks\": \"\", \"zerolinecolor\": \"white\"}}, \"shapedefaults\": {\"line\": {\"color\": \"#2a3f5f\"}}, \"ternary\": {\"aaxis\": {\"gridcolor\": \"white\", \"linecolor\": \"white\", \"ticks\": \"\"}, \"baxis\": {\"gridcolor\": \"white\", \"linecolor\": \"white\", \"ticks\": \"\"}, \"bgcolor\": \"#E5ECF6\", \"caxis\": {\"gridcolor\": \"white\", \"linecolor\": \"white\", \"ticks\": \"\"}}, \"title\": {\"x\": 0.05}, \"xaxis\": {\"automargin\": true, \"gridcolor\": \"white\", \"linecolor\": \"white\", \"ticks\": \"\", \"title\": {\"standoff\": 15}, \"zerolinecolor\": \"white\", \"zerolinewidth\": 2}, \"yaxis\": {\"automargin\": true, \"gridcolor\": \"white\", \"linecolor\": \"white\", \"ticks\": \"\", \"title\": {\"standoff\": 15}, \"zerolinecolor\": \"white\", \"zerolinewidth\": 2}}}, \"title\": {\"text\": \"US States and Death/Positive Rates\"}, \"xaxis\": {\"anchor\": \"y\", \"domain\": [0.0, 1.0], \"title\": {\"text\": \"Death_Rate\"}}, \"yaxis\": {\"anchor\": \"x\", \"domain\": [0.0, 1.0], \"title\": {\"text\": \"Positive_Rate\"}}},\n",
       "                        {\"responsive\": true}\n",
       "                    ).then(function(){\n",
       "                            \n",
       "var gd = document.getElementById('3d5a9fa5-4f6f-4ebb-b7dd-80a62d58ece8');\n",
       "var x = new MutationObserver(function (mutations, observer) {{\n",
       "        var display = window.getComputedStyle(gd).display;\n",
       "        if (!display || display === 'none') {{\n",
       "            console.log([gd, 'removed!']);\n",
       "            Plotly.purge(gd);\n",
       "            observer.disconnect();\n",
       "        }}\n",
       "}});\n",
       "\n",
       "// Listen for the removal of the full notebook cells\n",
       "var notebookContainer = gd.closest('#notebook-container');\n",
       "if (notebookContainer) {{\n",
       "    x.observe(notebookContainer, {childList: true});\n",
       "}}\n",
       "\n",
       "// Listen for the clearing of the current output cell\n",
       "var outputEl = gd.closest('.output');\n",
       "if (outputEl) {{\n",
       "    x.observe(outputEl, {childList: true});\n",
       "}}\n",
       "\n",
       "                        })\n",
       "                };\n",
       "                });\n",
       "            </script>\n",
       "        </div>"
      ]
     },
     "metadata": {},
     "output_type": "display_data"
    }
   ],
   "source": [
    "#Let's visualize the death and positive rates according to states\n",
    "\n",
    "import plotly.express as px\n",
    "\n",
    "fig = px.scatter(explore, x=\"Death_Rate\", y=\"Positive_Rate\", text=explore[\"State\"])\n",
    "\n",
    "fig.update_traces(textposition='top center')\n",
    "\n",
    "fig.update_layout(height=800, title_text='US States and Death/Positive Rates')\n",
    "\n",
    "fig.show()"
   ]
  },
  {
   "cell_type": "markdown",
   "metadata": {
    "colab_type": "text",
    "id": "vd4cO3YYOdY-"
   },
   "source": [
    "The plot aligns with the early spread of the virus and high number of cases in the tri-state area, i.e. New York, New Jersey, and Connecticut, and also in the state of Michigan."
   ]
  },
  {
   "cell_type": "code",
   "execution_count": 88,
   "metadata": {
    "colab": {
     "base_uri": "https://localhost:8080/",
     "height": 34
    },
    "colab_type": "code",
    "id": "maqmw7csFKn-",
    "outputId": "15cf2378-442a-403f-fa33-1777478be4ff"
   },
   "outputs": [
    {
     "name": "stdout",
     "output_type": "stream",
     "text": [
      "The highest Death Rate is 7.495696794517878 in the state of Michigan\n"
     ]
    },
    {
     "name": "stderr",
     "output_type": "stream",
     "text": [
      "/srv/conda/envs/data100/lib/python3.7/site-packages/numpy/core/fromnumeric.py:61: FutureWarning:\n",
      "\n",
      "\n",
      "The current behaviour of 'Series.argmax' is deprecated, use 'idxmax'\n",
      "instead.\n",
      "The behavior of 'argmax' will be corrected to return the positional\n",
      "maximum in the future. For now, use 'series.values.argmax' or\n",
      "'np.argmax(np.array(values))' to get the position of the maximum\n",
      "row.\n",
      "\n"
     ]
    }
   ],
   "source": [
    "highest_death_rate = max(explore[\"Death_Rate\"])\n",
    "highest_death_rate_state = explore[\"State\"][explore[\"State\"].index == np.argmax(explore[\"Death_Rate\"])].to_list()\n",
    "print(\"The highest Death Rate is\", highest_death_rate, \"in the state of\", *highest_death_rate_state)"
   ]
  },
  {
   "cell_type": "code",
   "execution_count": 89,
   "metadata": {
    "colab": {
     "base_uri": "https://localhost:8080/",
     "height": 34
    },
    "colab_type": "code",
    "id": "0dAK5orgBYYX",
    "outputId": "328367bb-1b44-4422-f668-0b87f61c3f5f"
   },
   "outputs": [
    {
     "name": "stdout",
     "output_type": "stream",
     "text": [
      "The lowest Death Rate is 0.4539559014267186 in the state of South Dakota\n"
     ]
    },
    {
     "name": "stderr",
     "output_type": "stream",
     "text": [
      "/srv/conda/envs/data100/lib/python3.7/site-packages/numpy/core/fromnumeric.py:61: FutureWarning:\n",
      "\n",
      "\n",
      "The current behaviour of 'Series.argmin' is deprecated, use 'idxmin'\n",
      "instead.\n",
      "The behavior of 'argmin' will be corrected to return the positional\n",
      "minimum in the future. For now, use 'series.values.argmin' or\n",
      "'np.argmin(np.array(values))' to get the position of the minimum\n",
      "row.\n",
      "\n"
     ]
    }
   ],
   "source": [
    "lowest_death_rate = min(explore[\"Death_Rate\"])\n",
    "lowest_death_rate_state = explore[\"State\"][explore[\"State\"].index == np.argmin(explore[\"Death_Rate\"])].to_list()\n",
    "print(\"The lowest Death Rate is\", lowest_death_rate, \"in the state of\", *lowest_death_rate_state)"
   ]
  },
  {
   "cell_type": "code",
   "execution_count": 90,
   "metadata": {
    "colab": {
     "base_uri": "https://localhost:8080/",
     "height": 34
    },
    "colab_type": "code",
    "id": "C-SHPaEIFZDH",
    "outputId": "b6f52512-a008-42ed-e2bb-1d8de6716de0"
   },
   "outputs": [
    {
     "name": "stdout",
     "output_type": "stream",
     "text": [
      "The highest Positive Test Rate is 50.09351774376138 in the state of New Jersey\n"
     ]
    }
   ],
   "source": [
    "highest_positive_rate = max(explore[\"Positive_Rate\"])\n",
    "highest_positive_rate_state = explore[\"State\"][explore[\"State\"].index == np.argmax(explore[\"Positive_Rate\"])].to_list()\n",
    "print(\"The highest Positive Test Rate is\", highest_positive_rate, \"in the state of\", *highest_positive_rate_state)"
   ]
  },
  {
   "cell_type": "code",
   "execution_count": 91,
   "metadata": {
    "colab": {
     "base_uri": "https://localhost:8080/",
     "height": 34
    },
    "colab_type": "code",
    "id": "2LEosC6dBZtG",
    "outputId": "e6e03984-2612-4ea0-9271-89ef1efa6690"
   },
   "outputs": [
    {
     "name": "stdout",
     "output_type": "stream",
     "text": [
      "The lowest Positive Test Rate is 4.030655691172296 in the state of Montana\n"
     ]
    }
   ],
   "source": [
    "lowest_positive_rate = min(explore[\"Positive_Rate\"])\n",
    "lowest_positive_rate_state = explore[\"State\"][explore[\"State\"].index == np.argmin(explore[\"Positive_Rate\"])].to_list()\n",
    "print(\"The lowest Positive Test Rate is\", lowest_positive_rate, \"in the state of\", *lowest_positive_rate_state)"
   ]
  },
  {
   "cell_type": "markdown",
   "metadata": {
    "colab_type": "text",
    "id": "5YFNVGGdMLpl"
   },
   "source": [
    "## **1. The impact of smoking on the death rate and the positive test rate.**"
   ]
  },
  {
   "cell_type": "code",
   "execution_count": 92,
   "metadata": {
    "colab": {
     "base_uri": "https://localhost:8080/",
     "height": 419
    },
    "colab_type": "code",
    "id": "aGnA5EknBzrQ",
    "outputId": "d1e1daee-389e-4e41-a5e5-d9291e586cc7"
   },
   "outputs": [
    {
     "data": {
      "text/html": [
       "<div>\n",
       "<style scoped>\n",
       "    .dataframe tbody tr th:only-of-type {\n",
       "        vertical-align: middle;\n",
       "    }\n",
       "\n",
       "    .dataframe tbody tr th {\n",
       "        vertical-align: top;\n",
       "    }\n",
       "\n",
       "    .dataframe thead th {\n",
       "        text-align: right;\n",
       "    }\n",
       "</style>\n",
       "<table border=\"1\" class=\"dataframe\">\n",
       "  <thead>\n",
       "    <tr style=\"text-align: right;\">\n",
       "      <th></th>\n",
       "      <th>CountyName</th>\n",
       "      <th>State</th>\n",
       "      <th>Smokers_Percentage</th>\n",
       "    </tr>\n",
       "  </thead>\n",
       "  <tbody>\n",
       "    <tr>\n",
       "      <th>2418</th>\n",
       "      <td>Todd</td>\n",
       "      <td>South Dakota</td>\n",
       "      <td>41.491309</td>\n",
       "    </tr>\n",
       "    <tr>\n",
       "      <th>2029</th>\n",
       "      <td>Sioux</td>\n",
       "      <td>North Dakota</td>\n",
       "      <td>38.704763</td>\n",
       "    </tr>\n",
       "    <tr>\n",
       "      <th>2026</th>\n",
       "      <td>Rolette</td>\n",
       "      <td>North Dakota</td>\n",
       "      <td>37.579005</td>\n",
       "    </tr>\n",
       "    <tr>\n",
       "      <th>2366</th>\n",
       "      <td>Buffalo</td>\n",
       "      <td>South Dakota</td>\n",
       "      <td>36.013490</td>\n",
       "    </tr>\n",
       "    <tr>\n",
       "      <th>3086</th>\n",
       "      <td>Menominee</td>\n",
       "      <td>Wisconsin</td>\n",
       "      <td>33.580000</td>\n",
       "    </tr>\n",
       "  </tbody>\n",
       "</table>\n",
       "</div>"
      ],
      "text/plain": [
       "     CountyName         State  Smokers_Percentage\n",
       "2418       Todd  South Dakota           41.491309\n",
       "2029      Sioux  North Dakota           38.704763\n",
       "2026    Rolette  North Dakota           37.579005\n",
       "2366    Buffalo  South Dakota           36.013490\n",
       "3086  Menominee     Wisconsin           33.580000"
      ]
     },
     "execution_count": 92,
     "metadata": {},
     "output_type": "execute_result"
    }
   ],
   "source": [
    "impact_smoking = counties[[\"CountyName\", \"State\", \"Smokers_Percentage\"]]\n",
    "impact_smoking = impact_smoking.dropna()\n",
    "impact_smoking = impact_smoking[impact_smoking[\"Smokers_Percentage\"] > 0]\n",
    "impact_smoking.sort_values(by=[\"Smokers_Percentage\"], ascending=False).head()"
   ]
  },
  {
   "cell_type": "code",
   "execution_count": 93,
   "metadata": {
    "colab": {
     "base_uri": "https://localhost:8080/",
     "height": 1000
    },
    "colab_type": "code",
    "id": "HqTmjvskCTDR",
    "outputId": "0fa8895a-c9cb-4c07-99ad-e9e5b7bece59"
   },
   "outputs": [
    {
     "data": {
      "text/html": [
       "<div>\n",
       "<style scoped>\n",
       "    .dataframe tbody tr th:only-of-type {\n",
       "        vertical-align: middle;\n",
       "    }\n",
       "\n",
       "    .dataframe tbody tr th {\n",
       "        vertical-align: top;\n",
       "    }\n",
       "\n",
       "    .dataframe thead th {\n",
       "        text-align: right;\n",
       "    }\n",
       "</style>\n",
       "<table border=\"1\" class=\"dataframe\">\n",
       "  <thead>\n",
       "    <tr style=\"text-align: right;\">\n",
       "      <th></th>\n",
       "      <th>State</th>\n",
       "      <th>Smokers_Percentage</th>\n",
       "    </tr>\n",
       "  </thead>\n",
       "  <tbody>\n",
       "    <tr>\n",
       "      <th>46</th>\n",
       "      <td>West Virginia</td>\n",
       "      <td>22.882623</td>\n",
       "    </tr>\n",
       "    <tr>\n",
       "      <th>40</th>\n",
       "      <td>Tennessee</td>\n",
       "      <td>22.344046</td>\n",
       "    </tr>\n",
       "    <tr>\n",
       "      <th>15</th>\n",
       "      <td>Kentucky</td>\n",
       "      <td>22.291081</td>\n",
       "    </tr>\n",
       "    <tr>\n",
       "      <th>16</th>\n",
       "      <td>Louisiana</td>\n",
       "      <td>21.792924</td>\n",
       "    </tr>\n",
       "    <tr>\n",
       "      <th>23</th>\n",
       "      <td>Missouri</td>\n",
       "      <td>20.460137</td>\n",
       "    </tr>\n",
       "  </tbody>\n",
       "</table>\n",
       "</div>"
      ],
      "text/plain": [
       "            State  Smokers_Percentage\n",
       "46  West Virginia           22.882623\n",
       "40      Tennessee           22.344046\n",
       "15       Kentucky           22.291081\n",
       "16      Louisiana           21.792924\n",
       "23       Missouri           20.460137"
      ]
     },
     "execution_count": 93,
     "metadata": {},
     "output_type": "execute_result"
    }
   ],
   "source": [
    "#We are grouping by state because the county data is not available in the other spreadsheet\n",
    "\n",
    "impact_smoking = impact_smoking.groupby(by=\"State\", as_index=False).mean()\n",
    "impact_smoking.sort_values(by=[\"Smokers_Percentage\"], ascending=False).head()"
   ]
  },
  {
   "cell_type": "code",
   "execution_count": 94,
   "metadata": {
    "colab": {
     "base_uri": "https://localhost:8080/",
     "height": 204
    },
    "colab_type": "code",
    "id": "6RF0jO25ElIS",
    "outputId": "12ec74f6-d7b3-4fe6-e4bc-a6ab8d4bee0f"
   },
   "outputs": [
    {
     "data": {
      "text/html": [
       "<div>\n",
       "<style scoped>\n",
       "    .dataframe tbody tr th:only-of-type {\n",
       "        vertical-align: middle;\n",
       "    }\n",
       "\n",
       "    .dataframe tbody tr th {\n",
       "        vertical-align: top;\n",
       "    }\n",
       "\n",
       "    .dataframe thead th {\n",
       "        text-align: right;\n",
       "    }\n",
       "</style>\n",
       "<table border=\"1\" class=\"dataframe\">\n",
       "  <thead>\n",
       "    <tr style=\"text-align: right;\">\n",
       "      <th></th>\n",
       "      <th>State</th>\n",
       "      <th>Smokers_Percentage</th>\n",
       "      <th>Death_Rate</th>\n",
       "      <th>Positive_Rate</th>\n",
       "    </tr>\n",
       "  </thead>\n",
       "  <tbody>\n",
       "    <tr>\n",
       "      <th>45</th>\n",
       "      <td>West Virginia</td>\n",
       "      <td>22.882623</td>\n",
       "      <td>2.038217</td>\n",
       "      <td>4.038066</td>\n",
       "    </tr>\n",
       "    <tr>\n",
       "      <th>39</th>\n",
       "      <td>Tennessee</td>\n",
       "      <td>22.344046</td>\n",
       "      <td>2.155107</td>\n",
       "      <td>7.273751</td>\n",
       "    </tr>\n",
       "    <tr>\n",
       "      <th>14</th>\n",
       "      <td>Kentucky</td>\n",
       "      <td>22.291081</td>\n",
       "      <td>5.319542</td>\n",
       "      <td>8.847562</td>\n",
       "    </tr>\n",
       "    <tr>\n",
       "      <th>15</th>\n",
       "      <td>Louisiana</td>\n",
       "      <td>21.792924</td>\n",
       "      <td>5.373198</td>\n",
       "      <td>17.087080</td>\n",
       "    </tr>\n",
       "    <tr>\n",
       "      <th>22</th>\n",
       "      <td>Missouri</td>\n",
       "      <td>20.460137</td>\n",
       "      <td>3.531099</td>\n",
       "      <td>10.377797</td>\n",
       "    </tr>\n",
       "  </tbody>\n",
       "</table>\n",
       "</div>"
      ],
      "text/plain": [
       "            State  Smokers_Percentage  Death_Rate  Positive_Rate\n",
       "45  West Virginia           22.882623    2.038217       4.038066\n",
       "39      Tennessee           22.344046    2.155107       7.273751\n",
       "14       Kentucky           22.291081    5.319542       8.847562\n",
       "15      Louisiana           21.792924    5.373198      17.087080\n",
       "22       Missouri           20.460137    3.531099      10.377797"
      ]
     },
     "execution_count": 94,
     "metadata": {},
     "output_type": "execute_result"
    }
   ],
   "source": [
    "impact_smoking = impact_smoking.merge(states_april, left_on='State', right_on='Province_State')\n",
    "impact_smoking = impact_smoking[[\"State\", \"Smokers_Percentage\", \"Confirmed\", \"Deaths\", \"People_Tested\"]]\n",
    "impact_smoking[\"Death_Rate\"] = (impact_smoking[\"Deaths\"] / impact_smoking[\"Confirmed\"]) * 100\n",
    "impact_smoking[\"Positive_Rate\"] = (impact_smoking[\"Confirmed\"] / impact_smoking[\"People_Tested\"]) * 100\n",
    "impact_smoking = impact_smoking.drop(columns=[\"Confirmed\", \"Deaths\", \"People_Tested\"])\n",
    "impact_smoking.sort_values(by=[\"Smokers_Percentage\"], ascending=False).head()"
   ]
  },
  {
   "cell_type": "code",
   "execution_count": 95,
   "metadata": {
    "colab": {
     "base_uri": "https://localhost:8080/",
     "height": 34
    },
    "colab_type": "code",
    "id": "bg4gZKx9H8OW",
    "outputId": "c7f98c61-63bd-4ba5-83f5-3ee20a4d02e5"
   },
   "outputs": [
    {
     "name": "stdout",
     "output_type": "stream",
     "text": [
      "The correlation is 0.00875390226749109\n"
     ]
    }
   ],
   "source": [
    "#Finding correlation between state's smoking percentage vs their death rate\n",
    "\n",
    "smoking_correlation_death = impact_smoking[\"Smokers_Percentage\"].corr(impact_smoking[\"Death_Rate\"])\n",
    "print(\"The correlation is\", smoking_correlation_death)"
   ]
  },
  {
   "cell_type": "code",
   "execution_count": 96,
   "metadata": {
    "colab": {
     "base_uri": "https://localhost:8080/",
     "height": 279
    },
    "colab_type": "code",
    "id": "bAHMQu-BLNVq",
    "outputId": "86babf35-b891-43fa-d863-9acce3312fde"
   },
   "outputs": [
    {
     "data": {
      "image/png": "[encoded data removed]",
      "text/plain": [
       "<Figure size 432x288 with 1 Axes>"
      ]
     },
     "metadata": {
      "needs_background": "light"
     },
     "output_type": "display_data"
    }
   ],
   "source": [
    "plt.scatter(impact_smoking[\"Smokers_Percentage\"], impact_smoking[\"Death_Rate\"])\n",
    "plt.xlabel('Smokers Percentage')\n",
    "plt.ylabel('Death Rate')\n",
    "plt.show()"
   ]
  },
  {
   "cell_type": "code",
   "execution_count": 97,
   "metadata": {
    "colab": {
     "base_uri": "https://localhost:8080/",
     "height": 34
    },
    "colab_type": "code",
    "id": "kkXqzfTDNj-q",
    "outputId": "81382f2a-e449-4579-b31d-31e4b77b04fe"
   },
   "outputs": [
    {
     "name": "stdout",
     "output_type": "stream",
     "text": [
      "The correlation is -0.2123969713119242\n"
     ]
    }
   ],
   "source": [
    "#Finding correlation between state's smoking percentage vs their positive rate\n",
    "\n",
    "smoking_correlation_positve = impact_smoking[\"Smokers_Percentage\"].corr(impact_smoking[\"Positive_Rate\"])\n",
    "print(\"The correlation is\", smoking_correlation_positve)"
   ]
  },
  {
   "cell_type": "code",
   "execution_count": 98,
   "metadata": {
    "colab": {
     "base_uri": "https://localhost:8080/",
     "height": 279
    },
    "colab_type": "code",
    "id": "5HwTdGsjOMnz",
    "outputId": "611094ce-04e3-40fd-c9a6-6011bf968be7"
   },
   "outputs": [
    {
     "data": {
      "image/png": "[encoded data removed]",
      "text/plain": [
       "<Figure size 432x288 with 1 Axes>"
      ]
     },
     "metadata": {
      "needs_background": "light"
     },
     "output_type": "display_data"
    }
   ],
   "source": [
    "plt.scatter(impact_smoking[\"Smokers_Percentage\"], impact_smoking[\"Positive_Rate\"])\n",
    "plt.xlabel('Smokers Percentage')\n",
    "plt.ylabel('Positive Rate')\n",
    "plt.show()"
   ]
  },
  {
   "cell_type": "markdown",
   "metadata": {
    "colab_type": "text",
    "id": "DV1pCW7qKKqB"
   },
   "source": [
    "Conclusion:\n",
    "\n",
    "The correlation between smoking percentage and the death rate came out to be positive but the number was very small. However, the state with the lowest death rate is South Dakota, which has 2 counties in the top 4 counties with the highest smoking percentages. \n",
    "\n",
    "The correlation between smoking percentage and the positive rate came out to be negative and small. However, this might suggest that smoking does in fact bring down the number of positive cases.\n",
    "\n",
    "This suggests that if we had the data for the death rate according to counties, we could potentially find a negative correlation between smoking and falling sick with the coronavirus."
   ]
  },
  {
   "cell_type": "markdown",
   "metadata": {
    "colab_type": "text",
    "id": "dPLvAYJfHYfv"
   },
   "source": [
    "## **2. The impact of diabetes on the death rate and the positive test rate.**\n"
   ]
  },
  {
   "cell_type": "code",
   "execution_count": 99,
   "metadata": {
    "colab": {
     "base_uri": "https://localhost:8080/",
     "height": 419
    },
    "colab_type": "code",
    "id": "q86PdCFeHfJU",
    "outputId": "2c6d0987-ef8c-408a-8b47-14cf13d93ece"
   },
   "outputs": [
    {
     "data": {
      "text/html": [
       "<div>\n",
       "<style scoped>\n",
       "    .dataframe tbody tr th:only-of-type {\n",
       "        vertical-align: middle;\n",
       "    }\n",
       "\n",
       "    .dataframe tbody tr th {\n",
       "        vertical-align: top;\n",
       "    }\n",
       "\n",
       "    .dataframe thead th {\n",
       "        text-align: right;\n",
       "    }\n",
       "</style>\n",
       "<table border=\"1\" class=\"dataframe\">\n",
       "  <thead>\n",
       "    <tr style=\"text-align: right;\">\n",
       "      <th></th>\n",
       "      <th>CountyName</th>\n",
       "      <th>State</th>\n",
       "      <th>DiabetesPercentage</th>\n",
       "    </tr>\n",
       "  </thead>\n",
       "  <tbody>\n",
       "    <tr>\n",
       "      <th>1466</th>\n",
       "      <td>Tippah</td>\n",
       "      <td>Mississippi</td>\n",
       "      <td>33.0</td>\n",
       "    </tr>\n",
       "    <tr>\n",
       "      <th>469</th>\n",
       "      <td>Lanier</td>\n",
       "      <td>Georgia</td>\n",
       "      <td>32.3</td>\n",
       "    </tr>\n",
       "    <tr>\n",
       "      <th>542</th>\n",
       "      <td>Worth</td>\n",
       "      <td>Georgia</td>\n",
       "      <td>29.8</td>\n",
       "    </tr>\n",
       "    <tr>\n",
       "      <th>1938</th>\n",
       "      <td>Jones</td>\n",
       "      <td>North Carolina</td>\n",
       "      <td>27.2</td>\n",
       "    </tr>\n",
       "    <tr>\n",
       "      <th>2747</th>\n",
       "      <td>Trinity</td>\n",
       "      <td>Texas</td>\n",
       "      <td>26.8</td>\n",
       "    </tr>\n",
       "  </tbody>\n",
       "</table>\n",
       "</div>"
      ],
      "text/plain": [
       "     CountyName           State  DiabetesPercentage\n",
       "1466     Tippah     Mississippi                33.0\n",
       "469      Lanier         Georgia                32.3\n",
       "542       Worth         Georgia                29.8\n",
       "1938      Jones  North Carolina                27.2\n",
       "2747    Trinity           Texas                26.8"
      ]
     },
     "execution_count": 99,
     "metadata": {},
     "output_type": "execute_result"
    }
   ],
   "source": [
    "impact_diabetes = counties[[\"CountyName\", \"State\", \"DiabetesPercentage\"]]\n",
    "impact_diabetes = impact_diabetes.dropna()\n",
    "impact_diabetes = impact_diabetes[impact_diabetes[\"DiabetesPercentage\"] > 0]\n",
    "impact_diabetes.sort_values(by=[\"DiabetesPercentage\"], ascending=False).head()"
   ]
  },
  {
   "cell_type": "code",
   "execution_count": 100,
   "metadata": {
    "colab": {
     "base_uri": "https://localhost:8080/",
     "height": 204
    },
    "colab_type": "code",
    "id": "ZAiES1jyIBCz",
    "outputId": "de2a2647-5b3b-48ec-9c63-896414599235"
   },
   "outputs": [
    {
     "data": {
      "text/html": [
       "<div>\n",
       "<style scoped>\n",
       "    .dataframe tbody tr th:only-of-type {\n",
       "        vertical-align: middle;\n",
       "    }\n",
       "\n",
       "    .dataframe tbody tr th {\n",
       "        vertical-align: top;\n",
       "    }\n",
       "\n",
       "    .dataframe thead th {\n",
       "        text-align: right;\n",
       "    }\n",
       "</style>\n",
       "<table border=\"1\" class=\"dataframe\">\n",
       "  <thead>\n",
       "    <tr style=\"text-align: right;\">\n",
       "      <th></th>\n",
       "      <th>State</th>\n",
       "      <th>DiabetesPercentage</th>\n",
       "    </tr>\n",
       "  </thead>\n",
       "  <tbody>\n",
       "    <tr>\n",
       "      <th>22</th>\n",
       "      <td>Mississippi</td>\n",
       "      <td>14.456098</td>\n",
       "    </tr>\n",
       "    <tr>\n",
       "      <th>0</th>\n",
       "      <td>Alabama</td>\n",
       "      <td>14.407463</td>\n",
       "    </tr>\n",
       "    <tr>\n",
       "      <th>2</th>\n",
       "      <td>Arkansas</td>\n",
       "      <td>13.432000</td>\n",
       "    </tr>\n",
       "    <tr>\n",
       "      <th>38</th>\n",
       "      <td>South Carolina</td>\n",
       "      <td>13.267391</td>\n",
       "    </tr>\n",
       "    <tr>\n",
       "      <th>16</th>\n",
       "      <td>Louisiana</td>\n",
       "      <td>13.232812</td>\n",
       "    </tr>\n",
       "  </tbody>\n",
       "</table>\n",
       "</div>"
      ],
      "text/plain": [
       "             State  DiabetesPercentage\n",
       "22     Mississippi           14.456098\n",
       "0          Alabama           14.407463\n",
       "2         Arkansas           13.432000\n",
       "38  South Carolina           13.267391\n",
       "16       Louisiana           13.232812"
      ]
     },
     "execution_count": 100,
     "metadata": {},
     "output_type": "execute_result"
    }
   ],
   "source": [
    "#We are grouping by state because the county data is not available in the other spreadsheet\n",
    "#Observe the sharp decrease in % when doing this; Tippah County of MS is 33% but the entire state averages to be <15%\n",
    "\n",
    "impact_diabetes = impact_diabetes.groupby(by=\"State\", as_index=False).mean()\n",
    "impact_diabetes.sort_values(by=[\"DiabetesPercentage\"], ascending=False).head()"
   ]
  },
  {
   "cell_type": "code",
   "execution_count": 101,
   "metadata": {
    "colab": {
     "base_uri": "https://localhost:8080/",
     "height": 1000
    },
    "colab_type": "code",
    "id": "mYBZpNN-INjV",
    "outputId": "f160f4f7-31b4-453d-a655-d584efc63f21"
   },
   "outputs": [
    {
     "data": {
      "text/html": [
       "<div>\n",
       "<style scoped>\n",
       "    .dataframe tbody tr th:only-of-type {\n",
       "        vertical-align: middle;\n",
       "    }\n",
       "\n",
       "    .dataframe tbody tr th {\n",
       "        vertical-align: top;\n",
       "    }\n",
       "\n",
       "    .dataframe thead th {\n",
       "        text-align: right;\n",
       "    }\n",
       "</style>\n",
       "<table border=\"1\" class=\"dataframe\">\n",
       "  <thead>\n",
       "    <tr style=\"text-align: right;\">\n",
       "      <th></th>\n",
       "      <th>State</th>\n",
       "      <th>DiabetesPercentage</th>\n",
       "      <th>Death_Rate</th>\n",
       "      <th>Positive_Rate</th>\n",
       "    </tr>\n",
       "  </thead>\n",
       "  <tbody>\n",
       "    <tr>\n",
       "      <th>21</th>\n",
       "      <td>Mississippi</td>\n",
       "      <td>14.456098</td>\n",
       "      <td>3.824862</td>\n",
       "      <td>10.251516</td>\n",
       "    </tr>\n",
       "    <tr>\n",
       "      <th>0</th>\n",
       "      <td>Alabama</td>\n",
       "      <td>14.407463</td>\n",
       "      <td>3.247029</td>\n",
       "      <td>11.077155</td>\n",
       "    </tr>\n",
       "    <tr>\n",
       "      <th>2</th>\n",
       "      <td>Arkansas</td>\n",
       "      <td>13.432000</td>\n",
       "      <td>2.178899</td>\n",
       "      <td>7.224224</td>\n",
       "    </tr>\n",
       "    <tr>\n",
       "      <th>37</th>\n",
       "      <td>South Carolina</td>\n",
       "      <td>13.267391</td>\n",
       "      <td>2.801318</td>\n",
       "      <td>10.939150</td>\n",
       "    </tr>\n",
       "    <tr>\n",
       "      <th>15</th>\n",
       "      <td>Louisiana</td>\n",
       "      <td>13.232812</td>\n",
       "      <td>5.373198</td>\n",
       "      <td>17.087080</td>\n",
       "    </tr>\n",
       "  </tbody>\n",
       "</table>\n",
       "</div>"
      ],
      "text/plain": [
       "             State  DiabetesPercentage  Death_Rate  Positive_Rate\n",
       "21     Mississippi           14.456098    3.824862      10.251516\n",
       "0          Alabama           14.407463    3.247029      11.077155\n",
       "2         Arkansas           13.432000    2.178899       7.224224\n",
       "37  South Carolina           13.267391    2.801318      10.939150\n",
       "15       Louisiana           13.232812    5.373198      17.087080"
      ]
     },
     "execution_count": 101,
     "metadata": {},
     "output_type": "execute_result"
    }
   ],
   "source": [
    "impact_diabetes = impact_diabetes.merge(states_april, left_on='State', right_on='Province_State')\n",
    "impact_diabetes = impact_diabetes[[\"State\", \"DiabetesPercentage\", \"Confirmed\", \"Deaths\", \"People_Tested\"]]\n",
    "impact_diabetes[\"Death_Rate\"] = (impact_diabetes[\"Deaths\"] / impact_diabetes[\"Confirmed\"]) * 100\n",
    "impact_diabetes[\"Positive_Rate\"] = (impact_diabetes[\"Confirmed\"] / impact_diabetes[\"People_Tested\"]) * 100\n",
    "impact_diabetes = impact_diabetes.drop(columns=[\"Confirmed\", \"Deaths\", \"People_Tested\"])\n",
    "impact_diabetes.sort_values(by=[\"DiabetesPercentage\"], ascending=False).head()"
   ]
  },
  {
   "cell_type": "code",
   "execution_count": 102,
   "metadata": {
    "colab": {
     "base_uri": "https://localhost:8080/",
     "height": 34
    },
    "colab_type": "code",
    "id": "FNkqzidBIgs6",
    "outputId": "08412357-8308-4b98-86b0-17b7cd60d6c9"
   },
   "outputs": [
    {
     "name": "stdout",
     "output_type": "stream",
     "text": [
      "The correlation is: -0.0075844950723966895\n"
     ]
    }
   ],
   "source": [
    "#Finding correlation between state's diabetes percentage vs their death rate\n",
    "\n",
    "diabetes_correlation_death = impact_diabetes[\"DiabetesPercentage\"].corr(impact_diabetes[\"Death_Rate\"])\n",
    "print(\"The correlation is:\", diabetes_correlation_death)"
   ]
  },
  {
   "cell_type": "code",
   "execution_count": 103,
   "metadata": {
    "colab": {
     "base_uri": "https://localhost:8080/",
     "height": 279
    },
    "colab_type": "code",
    "id": "YKoNWBhxJKDo",
    "outputId": "2be90752-66ac-4d74-8e6c-d42d40e37c46"
   },
   "outputs": [
    {
     "data": {
      "image/png": "[encoded data removed]",
      "text/plain": [
       "<Figure size 432x288 with 1 Axes>"
      ]
     },
     "metadata": {
      "needs_background": "light"
     },
     "output_type": "display_data"
    }
   ],
   "source": [
    "plt.scatter(impact_diabetes[\"DiabetesPercentage\"], impact_diabetes[\"Death_Rate\"])\n",
    "plt.xlabel('Diabetes Percentage')\n",
    "plt.ylabel('Death Rate')\n",
    "plt.show()"
   ]
  },
  {
   "cell_type": "code",
   "execution_count": 104,
   "metadata": {
    "colab": {
     "base_uri": "https://localhost:8080/",
     "height": 34
    },
    "colab_type": "code",
    "id": "sw9LDQAHJS-0",
    "outputId": "b379bad2-ff8c-4409-9e93-c7e1e9ca6e3c"
   },
   "outputs": [
    {
     "name": "stdout",
     "output_type": "stream",
     "text": [
      "The correlation is: -0.07202129942615186\n"
     ]
    }
   ],
   "source": [
    "#Finding correlation between state's diabetes percentage vs their positive rate\n",
    "\n",
    "smoking_correlation_positve = impact_diabetes[\"DiabetesPercentage\"].corr(impact_diabetes[\"Positive_Rate\"])\n",
    "print(\"The correlation is:\", smoking_correlation_positve)"
   ]
  },
  {
   "cell_type": "code",
   "execution_count": 105,
   "metadata": {
    "colab": {
     "base_uri": "https://localhost:8080/",
     "height": 279
    },
    "colab_type": "code",
    "id": "q7cbKGyzJn-J",
    "outputId": "b4b79448-b646-486a-ac84-053e9d171421"
   },
   "outputs": [
    {
     "data": {
      "image/png": "[encoded data removed]",
      "text/plain": [
       "<Figure size 432x288 with 1 Axes>"
      ]
     },
     "metadata": {
      "needs_background": "light"
     },
     "output_type": "display_data"
    }
   ],
   "source": [
    "plt.scatter(impact_diabetes[\"DiabetesPercentage\"], impact_diabetes[\"Positive_Rate\"])\n",
    "plt.xlabel('Diabetes Percentage')\n",
    "plt.ylabel('Positive Rate')\n",
    "plt.show()"
   ]
  },
  {
   "cell_type": "markdown",
   "metadata": {
    "colab_type": "text",
    "id": "xD-uH40mKFWS"
   },
   "source": [
    "Conclusion:\n",
    "\n",
    "The correlation between diabetes percentage and the death rate came out to be negative but the number was very small.\n",
    "\n",
    "The correlation between diabetes percentage and the positive rate came out to be negative and small. This result is kind of surprising but at the same time not significant enough to make a conclusion."
   ]
  },
  {
   "cell_type": "markdown",
   "metadata": {
    "colab_type": "text",
    "id": "pr34BCUQLYlG"
   },
   "source": [
    "## **3. The impact of heart disease on the death rate and the positive test rate.**"
   ]
  },
  {
   "cell_type": "code",
   "execution_count": 106,
   "metadata": {
    "colab": {
     "base_uri": "https://localhost:8080/",
     "height": 419
    },
    "colab_type": "code",
    "id": "AIx-4WGKLcMn",
    "outputId": "dc12278a-6b35-4311-a2c3-db721ee21f36"
   },
   "outputs": [
    {
     "data": {
      "text/html": [
       "<div>\n",
       "<style scoped>\n",
       "    .dataframe tbody tr th:only-of-type {\n",
       "        vertical-align: middle;\n",
       "    }\n",
       "\n",
       "    .dataframe tbody tr th {\n",
       "        vertical-align: top;\n",
       "    }\n",
       "\n",
       "    .dataframe thead th {\n",
       "        text-align: right;\n",
       "    }\n",
       "</style>\n",
       "<table border=\"1\" class=\"dataframe\">\n",
       "  <thead>\n",
       "    <tr style=\"text-align: right;\">\n",
       "      <th></th>\n",
       "      <th>CountyName</th>\n",
       "      <th>State</th>\n",
       "      <th>HeartDiseaseMortality</th>\n",
       "    </tr>\n",
       "  </thead>\n",
       "  <tbody>\n",
       "    <tr>\n",
       "      <th>1129</th>\n",
       "      <td>Franklin</td>\n",
       "      <td>Louisiana</td>\n",
       "      <td>603.0</td>\n",
       "    </tr>\n",
       "    <tr>\n",
       "      <th>1119</th>\n",
       "      <td>Caldwell</td>\n",
       "      <td>Louisiana</td>\n",
       "      <td>418.1</td>\n",
       "    </tr>\n",
       "    <tr>\n",
       "      <th>1588</th>\n",
       "      <td>Washington</td>\n",
       "      <td>Missouri</td>\n",
       "      <td>402.5</td>\n",
       "    </tr>\n",
       "    <tr>\n",
       "      <th>2029</th>\n",
       "      <td>Sioux</td>\n",
       "      <td>North Dakota</td>\n",
       "      <td>381.0</td>\n",
       "    </tr>\n",
       "    <tr>\n",
       "      <th>1001</th>\n",
       "      <td>Breathitt</td>\n",
       "      <td>Kentucky</td>\n",
       "      <td>376.0</td>\n",
       "    </tr>\n",
       "  </tbody>\n",
       "</table>\n",
       "</div>"
      ],
      "text/plain": [
       "      CountyName         State  HeartDiseaseMortality\n",
       "1129    Franklin     Louisiana                  603.0\n",
       "1119    Caldwell     Louisiana                  418.1\n",
       "1588  Washington      Missouri                  402.5\n",
       "2029       Sioux  North Dakota                  381.0\n",
       "1001   Breathitt      Kentucky                  376.0"
      ]
     },
     "execution_count": 106,
     "metadata": {},
     "output_type": "execute_result"
    }
   ],
   "source": [
    "impact_heart = counties[[\"CountyName\", \"State\", \"HeartDiseaseMortality\"]]\n",
    "impact_heart = impact_heart.dropna()\n",
    "impact_heart = impact_heart[impact_heart[\"HeartDiseaseMortality\"] > 0]\n",
    "impact_heart.sort_values(by=[\"HeartDiseaseMortality\"], ascending=False).head()"
   ]
  },
  {
   "cell_type": "code",
   "execution_count": 107,
   "metadata": {
    "colab": {
     "base_uri": "https://localhost:8080/",
     "height": 204
    },
    "colab_type": "code",
    "id": "chBtJ46xL2ku",
    "outputId": "bbbc9293-433a-420e-e018-73e8c5b285da"
   },
   "outputs": [
    {
     "data": {
      "text/html": [
       "<div>\n",
       "<style scoped>\n",
       "    .dataframe tbody tr th:only-of-type {\n",
       "        vertical-align: middle;\n",
       "    }\n",
       "\n",
       "    .dataframe tbody tr th {\n",
       "        vertical-align: top;\n",
       "    }\n",
       "\n",
       "    .dataframe thead th {\n",
       "        text-align: right;\n",
       "    }\n",
       "</style>\n",
       "<table border=\"1\" class=\"dataframe\">\n",
       "  <thead>\n",
       "    <tr style=\"text-align: right;\">\n",
       "      <th></th>\n",
       "      <th>State</th>\n",
       "      <th>HeartDiseaseMortality</th>\n",
       "    </tr>\n",
       "  </thead>\n",
       "  <tbody>\n",
       "    <tr>\n",
       "      <th>22</th>\n",
       "      <td>Mississippi</td>\n",
       "      <td>247.858537</td>\n",
       "    </tr>\n",
       "    <tr>\n",
       "      <th>0</th>\n",
       "      <td>Alabama</td>\n",
       "      <td>243.595522</td>\n",
       "    </tr>\n",
       "    <tr>\n",
       "      <th>34</th>\n",
       "      <td>Oklahoma</td>\n",
       "      <td>242.615584</td>\n",
       "    </tr>\n",
       "    <tr>\n",
       "      <th>16</th>\n",
       "      <td>Louisiana</td>\n",
       "      <td>241.418750</td>\n",
       "    </tr>\n",
       "    <tr>\n",
       "      <th>2</th>\n",
       "      <td>Arkansas</td>\n",
       "      <td>235.172000</td>\n",
       "    </tr>\n",
       "  </tbody>\n",
       "</table>\n",
       "</div>"
      ],
      "text/plain": [
       "          State  HeartDiseaseMortality\n",
       "22  Mississippi             247.858537\n",
       "0       Alabama             243.595522\n",
       "34     Oklahoma             242.615584\n",
       "16    Louisiana             241.418750\n",
       "2      Arkansas             235.172000"
      ]
     },
     "execution_count": 107,
     "metadata": {},
     "output_type": "execute_result"
    }
   ],
   "source": [
    "#We are grouping by state because the county data is not available in the other spreadsheet\n",
    "\n",
    "impact_heart = impact_heart.groupby(by=\"State\", as_index=False).mean()\n",
    "impact_heart.sort_values(by=[\"HeartDiseaseMortality\"], ascending=False).head()"
   ]
  },
  {
   "cell_type": "code",
   "execution_count": 108,
   "metadata": {
    "colab": {
     "base_uri": "https://localhost:8080/",
     "height": 204
    },
    "colab_type": "code",
    "id": "NpTV0Z8VMIT7",
    "outputId": "bbc4d8e5-5769-40cb-8598-d1f15f68eb3e"
   },
   "outputs": [
    {
     "data": {
      "text/html": [
       "<div>\n",
       "<style scoped>\n",
       "    .dataframe tbody tr th:only-of-type {\n",
       "        vertical-align: middle;\n",
       "    }\n",
       "\n",
       "    .dataframe tbody tr th {\n",
       "        vertical-align: top;\n",
       "    }\n",
       "\n",
       "    .dataframe thead th {\n",
       "        text-align: right;\n",
       "    }\n",
       "</style>\n",
       "<table border=\"1\" class=\"dataframe\">\n",
       "  <thead>\n",
       "    <tr style=\"text-align: right;\">\n",
       "      <th></th>\n",
       "      <th>State</th>\n",
       "      <th>HeartDiseaseMortality</th>\n",
       "      <th>Death_Rate</th>\n",
       "      <th>Positive_Rate</th>\n",
       "    </tr>\n",
       "  </thead>\n",
       "  <tbody>\n",
       "    <tr>\n",
       "      <th>21</th>\n",
       "      <td>Mississippi</td>\n",
       "      <td>247.858537</td>\n",
       "      <td>3.824862</td>\n",
       "      <td>10.251516</td>\n",
       "    </tr>\n",
       "    <tr>\n",
       "      <th>0</th>\n",
       "      <td>Alabama</td>\n",
       "      <td>243.595522</td>\n",
       "      <td>3.247029</td>\n",
       "      <td>11.077155</td>\n",
       "    </tr>\n",
       "    <tr>\n",
       "      <th>33</th>\n",
       "      <td>Oklahoma</td>\n",
       "      <td>242.615584</td>\n",
       "      <td>5.517241</td>\n",
       "      <td>6.936628</td>\n",
       "    </tr>\n",
       "    <tr>\n",
       "      <th>15</th>\n",
       "      <td>Louisiana</td>\n",
       "      <td>241.418750</td>\n",
       "      <td>5.373198</td>\n",
       "      <td>17.087080</td>\n",
       "    </tr>\n",
       "    <tr>\n",
       "      <th>2</th>\n",
       "      <td>Arkansas</td>\n",
       "      <td>235.172000</td>\n",
       "      <td>2.178899</td>\n",
       "      <td>7.224224</td>\n",
       "    </tr>\n",
       "  </tbody>\n",
       "</table>\n",
       "</div>"
      ],
      "text/plain": [
       "          State  HeartDiseaseMortality  Death_Rate  Positive_Rate\n",
       "21  Mississippi             247.858537    3.824862      10.251516\n",
       "0       Alabama             243.595522    3.247029      11.077155\n",
       "33     Oklahoma             242.615584    5.517241       6.936628\n",
       "15    Louisiana             241.418750    5.373198      17.087080\n",
       "2      Arkansas             235.172000    2.178899       7.224224"
      ]
     },
     "execution_count": 108,
     "metadata": {},
     "output_type": "execute_result"
    }
   ],
   "source": [
    "impact_heart = impact_heart.merge(states_april, left_on='State', right_on='Province_State')\n",
    "impact_heart = impact_heart[[\"State\", \"HeartDiseaseMortality\", \"Confirmed\", \"Deaths\", \"People_Tested\"]]\n",
    "impact_heart[\"Death_Rate\"] = (impact_heart[\"Deaths\"] / impact_heart[\"Confirmed\"]) * 100\n",
    "impact_heart[\"Positive_Rate\"] = (impact_heart[\"Confirmed\"] / impact_heart[\"People_Tested\"]) * 100\n",
    "impact_heart = impact_heart.drop(columns=[\"Confirmed\", \"Deaths\", \"People_Tested\"])\n",
    "impact_heart.sort_values(by=[\"HeartDiseaseMortality\"], ascending=False).head()"
   ]
  },
  {
   "cell_type": "code",
   "execution_count": 109,
   "metadata": {
    "colab": {
     "base_uri": "https://localhost:8080/",
     "height": 34
    },
    "colab_type": "code",
    "id": "JHz0yKv7MVxz",
    "outputId": "eea03a99-aef3-4594-9f9e-b85a66c5c94e"
   },
   "outputs": [
    {
     "name": "stdout",
     "output_type": "stream",
     "text": [
      "The correlation is: 0.10321854037569485\n"
     ]
    }
   ],
   "source": [
    "#Finding correlation between state's heart disease mortality vs their death rate\n",
    "\n",
    "heart_correlation_death = impact_heart[\"HeartDiseaseMortality\"].corr(impact_heart[\"Death_Rate\"])\n",
    "print(\"The correlation is:\", heart_correlation_death)"
   ]
  },
  {
   "cell_type": "code",
   "execution_count": 110,
   "metadata": {
    "colab": {
     "base_uri": "https://localhost:8080/",
     "height": 279
    },
    "colab_type": "code",
    "id": "TBCZEQgUMrP9",
    "outputId": "3e39d905-476a-4ff3-ba6f-c6b5ccaf3b4f"
   },
   "outputs": [
    {
     "data": {
      "image/png": "[encoded data removed]",
      "text/plain": [
       "<Figure size 432x288 with 1 Axes>"
      ]
     },
     "metadata": {
      "needs_background": "light"
     },
     "output_type": "display_data"
    }
   ],
   "source": [
    "plt.scatter(impact_heart[\"HeartDiseaseMortality\"], impact_heart[\"Death_Rate\"])\n",
    "plt.xlabel('Heart Disease Mortality')\n",
    "plt.ylabel('Death Rate')\n",
    "plt.show()"
   ]
  },
  {
   "cell_type": "code",
   "execution_count": 111,
   "metadata": {
    "colab": {
     "base_uri": "https://localhost:8080/",
     "height": 34
    },
    "colab_type": "code",
    "id": "l2ewVN4zMtgk",
    "outputId": "695e2ebd-2a53-47bc-944e-31c9d6a98ef4"
   },
   "outputs": [
    {
     "name": "stdout",
     "output_type": "stream",
     "text": [
      "The correlation is: 0.0018862240027487298\n"
     ]
    }
   ],
   "source": [
    "#Finding correlation between state's heart rate mortality vs their positive rate\n",
    "\n",
    "heart_correlation_positve = impact_heart[\"HeartDiseaseMortality\"].corr(impact_heart[\"Positive_Rate\"])\n",
    "print(\"The correlation is:\", heart_correlation_positve)"
   ]
  },
  {
   "cell_type": "code",
   "execution_count": 112,
   "metadata": {
    "colab": {
     "base_uri": "https://localhost:8080/",
     "height": 279
    },
    "colab_type": "code",
    "id": "Rx57HZUMND9-",
    "outputId": "b599cb66-49ca-4010-e90d-6cd1a12b7ccd"
   },
   "outputs": [
    {
     "data": {
      "image/png": "[encoded data removed]",
      "text/plain": [
       "<Figure size 432x288 with 1 Axes>"
      ]
     },
     "metadata": {
      "needs_background": "light"
     },
     "output_type": "display_data"
    }
   ],
   "source": [
    "plt.scatter(impact_heart[\"HeartDiseaseMortality\"], impact_heart[\"Positive_Rate\"])\n",
    "plt.xlabel('Heart Disease Mortality')\n",
    "plt.ylabel('Positive Rate')\n",
    "plt.show()"
   ]
  },
  {
   "cell_type": "markdown",
   "metadata": {
    "colab_type": "text",
    "id": "7cReUMl6NXbo"
   },
   "source": [
    "Conclusion:\n",
    "\n",
    "The correlation between heart rate mortality and the death rate came out to be positive, which is not surprising as people with heart disease are more suceptible to the virus.\n",
    "\n",
    "The correlation between heart rate mortality and the positive rate came out to be positive but small and insignificant."
   ]
  },
  {
   "cell_type": "markdown",
   "metadata": {
    "colab_type": "text",
    "id": "nmg7zJuvMiT_"
   },
   "source": [
    "## **4. The impact of stroke mortality on the death rate and the positive test rate.**"
   ]
  },
  {
   "cell_type": "code",
   "execution_count": 113,
   "metadata": {
    "colab": {
     "base_uri": "https://localhost:8080/",
     "height": 419
    },
    "colab_type": "code",
    "id": "nMZRv4yZMsOe",
    "outputId": "eeb4e598-53f1-4252-ed6c-b3c756305dbd"
   },
   "outputs": [
    {
     "data": {
      "text/html": [
       "<div>\n",
       "<style scoped>\n",
       "    .dataframe tbody tr th:only-of-type {\n",
       "        vertical-align: middle;\n",
       "    }\n",
       "\n",
       "    .dataframe tbody tr th {\n",
       "        vertical-align: top;\n",
       "    }\n",
       "\n",
       "    .dataframe thead th {\n",
       "        text-align: right;\n",
       "    }\n",
       "</style>\n",
       "<table border=\"1\" class=\"dataframe\">\n",
       "  <thead>\n",
       "    <tr style=\"text-align: right;\">\n",
       "      <th></th>\n",
       "      <th>CountyName</th>\n",
       "      <th>State</th>\n",
       "      <th>StrokeMortality</th>\n",
       "    </tr>\n",
       "  </thead>\n",
       "  <tbody>\n",
       "    <tr>\n",
       "      <th>2522</th>\n",
       "      <td>Angelina</td>\n",
       "      <td>Texas</td>\n",
       "      <td>99.9</td>\n",
       "    </tr>\n",
       "    <tr>\n",
       "      <th>1919</th>\n",
       "      <td>Edgecombe</td>\n",
       "      <td>North Carolina</td>\n",
       "      <td>92.3</td>\n",
       "    </tr>\n",
       "    <tr>\n",
       "      <th>953</th>\n",
       "      <td>Osage</td>\n",
       "      <td>Kansas</td>\n",
       "      <td>84.1</td>\n",
       "    </tr>\n",
       "    <tr>\n",
       "      <th>2328</th>\n",
       "      <td>Darlington</td>\n",
       "      <td>South Carolina</td>\n",
       "      <td>76.3</td>\n",
       "    </tr>\n",
       "    <tr>\n",
       "      <th>534</th>\n",
       "      <td>Wayne</td>\n",
       "      <td>Georgia</td>\n",
       "      <td>72.1</td>\n",
       "    </tr>\n",
       "  </tbody>\n",
       "</table>\n",
       "</div>"
      ],
      "text/plain": [
       "      CountyName           State  StrokeMortality\n",
       "2522    Angelina           Texas             99.9\n",
       "1919   Edgecombe  North Carolina             92.3\n",
       "953        Osage          Kansas             84.1\n",
       "2328  Darlington  South Carolina             76.3\n",
       "534        Wayne         Georgia             72.1"
      ]
     },
     "execution_count": 113,
     "metadata": {},
     "output_type": "execute_result"
    }
   ],
   "source": [
    "impact_stroke = counties[[\"CountyName\", \"State\", \"StrokeMortality\"]]\n",
    "impact_stroke = impact_stroke.dropna()\n",
    "impact_stroke = impact_stroke[impact_stroke[\"StrokeMortality\"] > 0]\n",
    "impact_stroke.sort_values(by=[\"StrokeMortality\"], ascending=False).head()"
   ]
  },
  {
   "cell_type": "code",
   "execution_count": 114,
   "metadata": {
    "colab": {
     "base_uri": "https://localhost:8080/",
     "height": 204
    },
    "colab_type": "code",
    "id": "THUvvPW7M6Zg",
    "outputId": "d0eccbab-04ab-4b1e-c1cf-3a4032b3e760"
   },
   "outputs": [
    {
     "data": {
      "text/html": [
       "<div>\n",
       "<style scoped>\n",
       "    .dataframe tbody tr th:only-of-type {\n",
       "        vertical-align: middle;\n",
       "    }\n",
       "\n",
       "    .dataframe tbody tr th {\n",
       "        vertical-align: top;\n",
       "    }\n",
       "\n",
       "    .dataframe thead th {\n",
       "        text-align: right;\n",
       "    }\n",
       "</style>\n",
       "<table border=\"1\" class=\"dataframe\">\n",
       "  <thead>\n",
       "    <tr style=\"text-align: right;\">\n",
       "      <th></th>\n",
       "      <th>State</th>\n",
       "      <th>StrokeMortality</th>\n",
       "    </tr>\n",
       "  </thead>\n",
       "  <tbody>\n",
       "    <tr>\n",
       "      <th>22</th>\n",
       "      <td>Mississippi</td>\n",
       "      <td>51.717073</td>\n",
       "    </tr>\n",
       "    <tr>\n",
       "      <th>0</th>\n",
       "      <td>Alabama</td>\n",
       "      <td>51.450746</td>\n",
       "    </tr>\n",
       "    <tr>\n",
       "      <th>38</th>\n",
       "      <td>South Carolina</td>\n",
       "      <td>49.047826</td>\n",
       "    </tr>\n",
       "    <tr>\n",
       "      <th>2</th>\n",
       "      <td>Arkansas</td>\n",
       "      <td>47.681333</td>\n",
       "    </tr>\n",
       "    <tr>\n",
       "      <th>16</th>\n",
       "      <td>Louisiana</td>\n",
       "      <td>47.168750</td>\n",
       "    </tr>\n",
       "  </tbody>\n",
       "</table>\n",
       "</div>"
      ],
      "text/plain": [
       "             State  StrokeMortality\n",
       "22     Mississippi        51.717073\n",
       "0          Alabama        51.450746\n",
       "38  South Carolina        49.047826\n",
       "2         Arkansas        47.681333\n",
       "16       Louisiana        47.168750"
      ]
     },
     "execution_count": 114,
     "metadata": {},
     "output_type": "execute_result"
    }
   ],
   "source": [
    "#We are grouping by state because the county data is not available in the other spreadsheet\n",
    "\n",
    "impact_stroke = impact_stroke.groupby(by=\"State\", as_index=False).mean()\n",
    "impact_stroke.sort_values(by=[\"StrokeMortality\"], ascending=False).head()"
   ]
  },
  {
   "cell_type": "code",
   "execution_count": 115,
   "metadata": {
    "colab": {
     "base_uri": "https://localhost:8080/",
     "height": 204
    },
    "colab_type": "code",
    "id": "gkeXF85-NDxV",
    "outputId": "0d43de08-2a8c-4eba-af90-67578d3ae141"
   },
   "outputs": [
    {
     "data": {
      "text/html": [
       "<div>\n",
       "<style scoped>\n",
       "    .dataframe tbody tr th:only-of-type {\n",
       "        vertical-align: middle;\n",
       "    }\n",
       "\n",
       "    .dataframe tbody tr th {\n",
       "        vertical-align: top;\n",
       "    }\n",
       "\n",
       "    .dataframe thead th {\n",
       "        text-align: right;\n",
       "    }\n",
       "</style>\n",
       "<table border=\"1\" class=\"dataframe\">\n",
       "  <thead>\n",
       "    <tr style=\"text-align: right;\">\n",
       "      <th></th>\n",
       "      <th>State</th>\n",
       "      <th>StrokeMortality</th>\n",
       "      <th>Death_Rate</th>\n",
       "      <th>Positive_Rate</th>\n",
       "    </tr>\n",
       "  </thead>\n",
       "  <tbody>\n",
       "    <tr>\n",
       "      <th>21</th>\n",
       "      <td>Mississippi</td>\n",
       "      <td>51.717073</td>\n",
       "      <td>3.824862</td>\n",
       "      <td>10.251516</td>\n",
       "    </tr>\n",
       "    <tr>\n",
       "      <th>0</th>\n",
       "      <td>Alabama</td>\n",
       "      <td>51.450746</td>\n",
       "      <td>3.247029</td>\n",
       "      <td>11.077155</td>\n",
       "    </tr>\n",
       "    <tr>\n",
       "      <th>37</th>\n",
       "      <td>South Carolina</td>\n",
       "      <td>49.047826</td>\n",
       "      <td>2.801318</td>\n",
       "      <td>10.939150</td>\n",
       "    </tr>\n",
       "    <tr>\n",
       "      <th>2</th>\n",
       "      <td>Arkansas</td>\n",
       "      <td>47.681333</td>\n",
       "      <td>2.178899</td>\n",
       "      <td>7.224224</td>\n",
       "    </tr>\n",
       "    <tr>\n",
       "      <th>15</th>\n",
       "      <td>Louisiana</td>\n",
       "      <td>47.168750</td>\n",
       "      <td>5.373198</td>\n",
       "      <td>17.087080</td>\n",
       "    </tr>\n",
       "  </tbody>\n",
       "</table>\n",
       "</div>"
      ],
      "text/plain": [
       "             State  StrokeMortality  Death_Rate  Positive_Rate\n",
       "21     Mississippi        51.717073    3.824862      10.251516\n",
       "0          Alabama        51.450746    3.247029      11.077155\n",
       "37  South Carolina        49.047826    2.801318      10.939150\n",
       "2         Arkansas        47.681333    2.178899       7.224224\n",
       "15       Louisiana        47.168750    5.373198      17.087080"
      ]
     },
     "execution_count": 115,
     "metadata": {},
     "output_type": "execute_result"
    }
   ],
   "source": [
    "impact_stroke = impact_stroke.merge(states_april, left_on='State', right_on='Province_State')\n",
    "impact_stroke = impact_stroke[[\"State\", \"StrokeMortality\", \"Confirmed\", \"Deaths\", \"People_Tested\"]]\n",
    "impact_stroke[\"Death_Rate\"] = (impact_stroke[\"Deaths\"] / impact_stroke[\"Confirmed\"]) * 100\n",
    "impact_stroke[\"Positive_Rate\"] = (impact_stroke[\"Confirmed\"] / impact_stroke[\"People_Tested\"]) * 100\n",
    "impact_stroke = impact_stroke.drop(columns=[\"Confirmed\", \"Deaths\", \"People_Tested\"])\n",
    "impact_stroke.sort_values(by=[\"StrokeMortality\"], ascending=False).head()"
   ]
  },
  {
   "cell_type": "code",
   "execution_count": 116,
   "metadata": {
    "colab": {
     "base_uri": "https://localhost:8080/",
     "height": 34
    },
    "colab_type": "code",
    "id": "_H18GNUPNkN8",
    "outputId": "81255b3f-5b5c-4367-f588-61b73c9cd597"
   },
   "outputs": [
    {
     "name": "stdout",
     "output_type": "stream",
     "text": [
      "The correlation is: -0.1015247462716252\n"
     ]
    }
   ],
   "source": [
    "#Finding correlation between state's stroke mortality vs their death rate\n",
    "\n",
    "stroke_correlation_death = impact_stroke[\"StrokeMortality\"].corr(impact_stroke[\"Death_Rate\"])\n",
    "print(\"The correlation is:\", stroke_correlation_death)"
   ]
  },
  {
   "cell_type": "code",
   "execution_count": 117,
   "metadata": {
    "colab": {
     "base_uri": "https://localhost:8080/",
     "height": 279
    },
    "colab_type": "code",
    "id": "EaWvEa23Ntsp",
    "outputId": "43fcb5b3-9ca1-4bad-f803-11aba40a5dee"
   },
   "outputs": [
    {
     "data": {
      "image/png": "[encoded data removed]",
      "text/plain": [
       "<Figure size 432x288 with 1 Axes>"
      ]
     },
     "metadata": {
      "needs_background": "light"
     },
     "output_type": "display_data"
    }
   ],
   "source": [
    "plt.scatter(impact_stroke[\"StrokeMortality\"], impact_stroke[\"Death_Rate\"])\n",
    "plt.xlabel('Stroke Mortality')\n",
    "plt.ylabel('Death Rate')\n",
    "plt.show()"
   ]
  },
  {
   "cell_type": "code",
   "execution_count": 118,
   "metadata": {
    "colab": {
     "base_uri": "https://localhost:8080/",
     "height": 34
    },
    "colab_type": "code",
    "id": "eitlP_jrONqV",
    "outputId": "044a322d-fa70-4e49-cf24-63346841ea96"
   },
   "outputs": [
    {
     "name": "stdout",
     "output_type": "stream",
     "text": [
      "The correlation is: -0.2144216082835535\n"
     ]
    }
   ],
   "source": [
    "#Finding correlation between state's stroke mortality vs their positive test rate\n",
    "\n",
    "stroke_correlation_positve = impact_stroke[\"StrokeMortality\"].corr(impact_stroke[\"Positive_Rate\"])\n",
    "print(\"The correlation is:\", stroke_correlation_positve)"
   ]
  },
  {
   "cell_type": "code",
   "execution_count": 119,
   "metadata": {
    "colab": {
     "base_uri": "https://localhost:8080/",
     "height": 279
    },
    "colab_type": "code",
    "id": "ljCYwBd0OhJc",
    "outputId": "bdbf4f8f-0f49-4b07-e4b1-c7ab2daa9b5e"
   },
   "outputs": [
    {
     "data": {
      "image/png": "[encoded data removed]",
      "text/plain": [
       "<Figure size 432x288 with 1 Axes>"
      ]
     },
     "metadata": {
      "needs_background": "light"
     },
     "output_type": "display_data"
    }
   ],
   "source": [
    "plt.scatter(impact_stroke[\"StrokeMortality\"], impact_stroke[\"Positive_Rate\"])\n",
    "plt.xlabel('Stroke Mortality')\n",
    "plt.ylabel('Positive Rate')\n",
    "plt.show()"
   ]
  },
  {
   "cell_type": "markdown",
   "metadata": {
    "colab_type": "text",
    "id": "iyN8OyAHQBxQ"
   },
   "source": [
    "Conclusion:\n",
    "\n",
    "The correlation between stroke mortality and the death rate came out to be negative surprisingly.\n",
    "\n",
    "The correlation between stroke mortality and the positive rate came out to be negative surprisingly.\n",
    "\n",
    "This surprise result could be because of the fact that stroke mortality rates are from 2014-2016 and not live data as young COVID-19 patients are suffering and dying from stroke."
   ]
  },
  {
   "cell_type": "markdown",
   "metadata": {
    "colab_type": "text",
    "id": "3LmX87NAOdEt"
   },
   "source": [
    "# **Modeling:**"
   ]
  },
  {
   "cell_type": "markdown",
   "metadata": {
    "colab_type": "text",
    "id": "wZpL-eixO6cx"
   },
   "source": [
    "Observing the EDA above, we can see that there are clearly some certain health conditions that potentially demonstrate a higher likelihood of contracting COVID-19. This is demonstrated by the greater absolute value of correlation."
   ]
  },
  {
   "cell_type": "markdown",
   "metadata": {
    "colab_type": "text",
    "id": "jkaMtm3FQWwY"
   },
   "source": [
    "## **Modeling the Relationship between Stroke and Smoking with Testing Positive for COVID-19**"
   ]
  },
  {
   "cell_type": "markdown",
   "metadata": {
    "colab_type": "text",
    "id": "JlCsJ7GkQKeg"
   },
   "source": [
    "Two conditions that clearly stick out considering the Positive Rate value are Stroke and Smoking. Below we construct a model to try to predict whether an individual has a higher likelihood of testing positive COVID-19. We first begin by merging the tables created in the EDA section for the Impact of Stroke and the Impact of Smoking."
   ]
  },
  {
   "cell_type": "code",
   "execution_count": 120,
   "metadata": {
    "colab": {
     "base_uri": "https://localhost:8080/",
     "height": 204
    },
    "colab_type": "code",
    "id": "B5TM4gQkOns9",
    "outputId": "ed592958-ead2-4a20-e6e4-5581bd9b6d15"
   },
   "outputs": [
    {
     "data": {
      "text/html": [
       "<div>\n",
       "<style scoped>\n",
       "    .dataframe tbody tr th:only-of-type {\n",
       "        vertical-align: middle;\n",
       "    }\n",
       "\n",
       "    .dataframe tbody tr th {\n",
       "        vertical-align: top;\n",
       "    }\n",
       "\n",
       "    .dataframe thead th {\n",
       "        text-align: right;\n",
       "    }\n",
       "</style>\n",
       "<table border=\"1\" class=\"dataframe\">\n",
       "  <thead>\n",
       "    <tr style=\"text-align: right;\">\n",
       "      <th></th>\n",
       "      <th>State</th>\n",
       "      <th>StrokeMortality</th>\n",
       "      <th>Smokers_Percentage</th>\n",
       "      <th>Positive_Rate_x</th>\n",
       "    </tr>\n",
       "  </thead>\n",
       "  <tbody>\n",
       "    <tr>\n",
       "      <th>0</th>\n",
       "      <td>Alabama</td>\n",
       "      <td>51.450746</td>\n",
       "      <td>19.989231</td>\n",
       "      <td>11.077155</td>\n",
       "    </tr>\n",
       "    <tr>\n",
       "      <th>1</th>\n",
       "      <td>Arizona</td>\n",
       "      <td>30.900000</td>\n",
       "      <td>16.483911</td>\n",
       "      <td>9.254579</td>\n",
       "    </tr>\n",
       "    <tr>\n",
       "      <th>2</th>\n",
       "      <td>Arkansas</td>\n",
       "      <td>47.681333</td>\n",
       "      <td>20.388849</td>\n",
       "      <td>7.224224</td>\n",
       "    </tr>\n",
       "    <tr>\n",
       "      <th>3</th>\n",
       "      <td>California</td>\n",
       "      <td>37.891379</td>\n",
       "      <td>12.091600</td>\n",
       "      <td>12.118165</td>\n",
       "    </tr>\n",
       "    <tr>\n",
       "      <th>4</th>\n",
       "      <td>Colorado</td>\n",
       "      <td>32.851562</td>\n",
       "      <td>14.297498</td>\n",
       "      <td>20.890387</td>\n",
       "    </tr>\n",
       "  </tbody>\n",
       "</table>\n",
       "</div>"
      ],
      "text/plain": [
       "        State  StrokeMortality  Smokers_Percentage  Positive_Rate_x\n",
       "0     Alabama        51.450746           19.989231        11.077155\n",
       "1     Arizona        30.900000           16.483911         9.254579\n",
       "2    Arkansas        47.681333           20.388849         7.224224\n",
       "3  California        37.891379           12.091600        12.118165\n",
       "4    Colorado        32.851562           14.297498        20.890387"
      ]
     },
     "execution_count": 120,
     "metadata": {},
     "output_type": "execute_result"
    }
   ],
   "source": [
    "impact_stroke_smoking = impact_stroke.merge(impact_smoking, on='State')[['State', 'StrokeMortality', 'Smokers_Percentage', 'Positive_Rate_x']]\n",
    "impact_stroke_smoking.head()"
   ]
  },
  {
   "cell_type": "markdown",
   "metadata": {
    "colab_type": "text",
    "id": "yl06t6tlRMm6"
   },
   "source": [
    "We then extract the two covariates we hope to use to build our model, which in this case are simply the StrokeMortality and Smokers_Percentage. We assign this reduced dataframe to the value X.\n",
    "We then assign Y to an array representing the corresponding Positive Rate values for each state."
   ]
  },
  {
   "cell_type": "code",
   "execution_count": 121,
   "metadata": {
    "colab": {
     "base_uri": "https://localhost:8080/",
     "height": 204
    },
    "colab_type": "code",
    "id": "QXLXj5noQqF3",
    "outputId": "12cc234a-e98d-4a91-e2ff-30d02222d682"
   },
   "outputs": [
    {
     "data": {
      "text/html": [
       "<div>\n",
       "<style scoped>\n",
       "    .dataframe tbody tr th:only-of-type {\n",
       "        vertical-align: middle;\n",
       "    }\n",
       "\n",
       "    .dataframe tbody tr th {\n",
       "        vertical-align: top;\n",
       "    }\n",
       "\n",
       "    .dataframe thead th {\n",
       "        text-align: right;\n",
       "    }\n",
       "</style>\n",
       "<table border=\"1\" class=\"dataframe\">\n",
       "  <thead>\n",
       "    <tr style=\"text-align: right;\">\n",
       "      <th></th>\n",
       "      <th>StrokeMortality</th>\n",
       "      <th>Smokers_Percentage</th>\n",
       "    </tr>\n",
       "  </thead>\n",
       "  <tbody>\n",
       "    <tr>\n",
       "      <th>0</th>\n",
       "      <td>51.450746</td>\n",
       "      <td>19.989231</td>\n",
       "    </tr>\n",
       "    <tr>\n",
       "      <th>1</th>\n",
       "      <td>30.900000</td>\n",
       "      <td>16.483911</td>\n",
       "    </tr>\n",
       "    <tr>\n",
       "      <th>2</th>\n",
       "      <td>47.681333</td>\n",
       "      <td>20.388849</td>\n",
       "    </tr>\n",
       "    <tr>\n",
       "      <th>3</th>\n",
       "      <td>37.891379</td>\n",
       "      <td>12.091600</td>\n",
       "    </tr>\n",
       "    <tr>\n",
       "      <th>4</th>\n",
       "      <td>32.851562</td>\n",
       "      <td>14.297498</td>\n",
       "    </tr>\n",
       "  </tbody>\n",
       "</table>\n",
       "</div>"
      ],
      "text/plain": [
       "   StrokeMortality  Smokers_Percentage\n",
       "0        51.450746           19.989231\n",
       "1        30.900000           16.483911\n",
       "2        47.681333           20.388849\n",
       "3        37.891379           12.091600\n",
       "4        32.851562           14.297498"
      ]
     },
     "execution_count": 121,
     "metadata": {},
     "output_type": "execute_result"
    }
   ],
   "source": [
    "X_positive = impact_stroke_smoking[['StrokeMortality', 'Smokers_Percentage']]\n",
    "X_positive.head()"
   ]
  },
  {
   "cell_type": "code",
   "execution_count": 122,
   "metadata": {
    "colab": {
     "base_uri": "https://localhost:8080/",
     "height": 187
    },
    "colab_type": "code",
    "id": "gdMjSInqQqYT",
    "outputId": "2e9ceb9f-92b2-4215-c285-775feb4a0120"
   },
   "outputs": [
    {
     "data": {
      "text/plain": [
       "array([11.07715454,  9.25457929,  7.22422435, 12.11816513, 20.89038724,\n",
       "       31.6432873 , 18.10658486, 10.34044952, 23.81010134,  9.96447709,\n",
       "       21.2220896 , 18.71010849, 10.95132261, 10.30210455,  8.84756177,\n",
       "       17.08708034,  5.67580245, 18.85574423, 23.19554099, 30.87528954,\n",
       "        4.99006054, 10.25151554, 10.37779721,  4.03065569,  9.13211962,\n",
       "       11.79148646, 10.44195456, 50.09351774,  5.04871816, 40.51953625,\n",
       "        8.30326331,  4.07313122, 12.97899896,  6.93662765,  4.90647367,\n",
       "       20.55791901, 13.68122829, 10.93914969, 13.22469983,  7.27375091,\n",
       "       10.61286094,  4.86620846,  6.39025943, 15.50711521,  8.94649274,\n",
       "        4.03806584,  8.71867279,  4.73781049])"
      ]
     },
     "execution_count": 122,
     "metadata": {},
     "output_type": "execute_result"
    }
   ],
   "source": [
    "Y_positive = np.array(impact_stroke_smoking['Positive_Rate_x'])\n",
    "Y_positive"
   ]
  },
  {
   "cell_type": "markdown",
   "metadata": {
    "colab_type": "text",
    "id": "LdUnPNUxSPdG"
   },
   "source": [
    "We perform a train-test split below."
   ]
  },
  {
   "cell_type": "code",
   "execution_count": 123,
   "metadata": {
    "colab": {},
    "colab_type": "code",
    "id": "hb2Qr77OW6MR"
   },
   "outputs": [],
   "source": [
    "from sklearn.model_selection import train_test_split\n",
    "\n",
    "np.random.seed(41)\n",
    "X_positive_train, X_positive_test, Y_positive_train, Y_positive_test = train_test_split(X_positive, Y_positive, test_size = 0.10)"
   ]
  },
  {
   "cell_type": "markdown",
   "metadata": {
    "colab_type": "text",
    "id": "fSWQVOw0XNUF"
   },
   "source": [
    "We can now start building our model. We use a linear model because the values of data we are using here are continuous in nature, not categorical."
   ]
  },
  {
   "cell_type": "code",
   "execution_count": 124,
   "metadata": {
    "colab": {
     "base_uri": "https://localhost:8080/",
     "height": 34
    },
    "colab_type": "code",
    "id": "DSjhJsS1YCU-",
    "outputId": "ee5dfb84-b7af-45fd-f4db-d736dbc8a068"
   },
   "outputs": [
    {
     "data": {
      "text/plain": [
       "LinearRegression(copy_X=True, fit_intercept=True, n_jobs=None, normalize=False)"
      ]
     },
     "execution_count": 124,
     "metadata": {},
     "output_type": "execute_result"
    }
   ],
   "source": [
    "from sklearn import linear_model as lm\n",
    "\n",
    "linear_model_positive = lm.LinearRegression(fit_intercept=True)\n",
    "linear_model_positive.fit(X_positive_train, Y_positive_train)"
   ]
  },
  {
   "cell_type": "markdown",
   "metadata": {
    "colab_type": "text",
    "id": "6-lImYmAdYtA"
   },
   "source": [
    "Let's then compute both the fitted and the predicted values of the training subset of data."
   ]
  },
  {
   "cell_type": "code",
   "execution_count": 125,
   "metadata": {
    "colab": {
     "base_uri": "https://localhost:8080/",
     "height": 170
    },
    "colab_type": "code",
    "id": "FMtdy0SWSsJj",
    "outputId": "029411ff-161b-47a8-8812-7594e44b9d24"
   },
   "outputs": [
    {
     "data": {
      "text/plain": [
       "array([14.5540031 , 11.43674592, 11.97812257, 13.37560695, 12.08113247,\n",
       "       16.54422809, 13.34056086, 11.28265813, 15.63844288,  9.67138763,\n",
       "        9.60968126, 14.79869014, 14.79838622, 14.95406464, 13.26914168,\n",
       "       12.67332026, 13.16533651, 16.25758839, 10.2952923 ,  9.45955772,\n",
       "       14.11237447, 11.51068877, 13.33233425, 14.40904695, 11.56135903,\n",
       "       11.15378776, 14.50103677, 13.40717057, 10.82791618, 14.41492807,\n",
       "       13.17095857, 13.72213538, 15.33252714, 15.02025959,  9.8924214 ,\n",
       "       13.27617057, 13.20530001, 13.94834168, 13.72375592, 13.76276098,\n",
       "       13.97136094, 12.69714262, 10.09116808])"
      ]
     },
     "execution_count": 125,
     "metadata": {},
     "output_type": "execute_result"
    }
   ],
   "source": [
    "linear_model_positive.predict(X_positive_train)"
   ]
  },
  {
   "cell_type": "markdown",
   "metadata": {
    "colab_type": "text",
    "id": "pbyhbamCdtt1"
   },
   "source": [
    "Compare the model with the actual data using the RMSE function."
   ]
  },
  {
   "cell_type": "code",
   "execution_count": 126,
   "metadata": {
    "colab": {},
    "colab_type": "code",
    "id": "jJsuExmqdx5O"
   },
   "outputs": [],
   "source": [
    "def rmse(predicted, actual):\n",
    "    return np.sqrt(np.mean((actual - predicted)**2))"
   ]
  },
  {
   "cell_type": "code",
   "execution_count": 127,
   "metadata": {
    "colab": {
     "base_uri": "https://localhost:8080/",
     "height": 34
    },
    "colab_type": "code",
    "id": "nrA9IxXiSsGX",
    "outputId": "e777ba00-4db2-4187-dd34-5015ea014f01"
   },
   "outputs": [
    {
     "data": {
      "text/plain": [
       "8.71538802352272"
      ]
     },
     "execution_count": 127,
     "metadata": {},
     "output_type": "execute_result"
    }
   ],
   "source": [
    "rmse(linear_model_positive.predict(X_positive_train), Y_positive_train)"
   ]
  },
  {
   "cell_type": "markdown",
   "metadata": {
    "colab_type": "text",
    "id": "OEmuLfkUeuh8"
   },
   "source": [
    "The RMSE value is apporixmately 8.72 which we will later interpret and compare against the RMSE value of the other model to follow."
   ]
  },
  {
   "cell_type": "markdown",
   "metadata": {
    "colab_type": "text",
    "id": "IWZ42UwCzTKX"
   },
   "source": [
    "Below, we create a regression plot visualization using seaborn. If the result of the plot is a horizontal line of points at 0, this means that the prediction is perfectly correlated. However, the plot is clearly not close to this perfect situation."
   ]
  },
  {
   "cell_type": "code",
   "execution_count": 128,
   "metadata": {
    "colab": {
     "base_uri": "https://localhost:8080/",
     "height": 295
    },
    "colab_type": "code",
    "id": "XlSH-_78zRXQ",
    "outputId": "39ad1291-3940-433e-a0b2-e7f64f612155"
   },
   "outputs": [
    {
     "data": {
      "image/png": "[encoded data removed]",
      "text/plain": [
       "<Figure size 432x288 with 1 Axes>"
      ]
     },
     "metadata": {
      "needs_background": "light"
     },
     "output_type": "display_data"
    }
   ],
   "source": [
    "import seaborn as sns\n",
    "\n",
    "#We would hope to see a horizontal line of points at 0.\n",
    "\n",
    "residuals = Y_positive_test - linear_model_positive.predict(X_positive_test)\n",
    "ax = sns.regplot(Y_positive_test, residuals)\n",
    "ax.set_xlabel('Death Rate (Test Data)')\n",
    "ax.set_ylabel('Residuals (Actual Rate - Predicted Rate)')\n",
    "ax.set_title(\"Residuals vs. Death Rate on Test Data\");"
   ]
  },
  {
   "cell_type": "markdown",
   "metadata": {
    "colab_type": "text",
    "id": "2v5IN0zlhOMi"
   },
   "source": [
    "Conclusion: This model seems to demonstrate a poor prediction of correlation. Let us then observe the relationship between Heart Disease and Stroke with the chance of dying from COVID-19."
   ]
  },
  {
   "cell_type": "markdown",
   "metadata": {
    "colab_type": "text",
    "id": "iy6DGLO9hGTu"
   },
   "source": [
    "## **Modeling the Relationship between Heart Disease and Stroke with Dying from COVID-19**"
   ]
  },
  {
   "cell_type": "markdown",
   "metadata": {
    "colab_type": "text",
    "id": "sSU4GaqfhPlU"
   },
   "source": [
    "We will now build a model using the two health conditions with the most impactful correlation value to the death rate of COVID-19. These conditions are Heart Disease and Stroke. We again begin by merging the tables created in the EDA section for the Impact of Stroke and the Impact of Heart Disease, focusing now on the Death Rate instead of the Positive Test percentage."
   ]
  },
  {
   "cell_type": "code",
   "execution_count": 129,
   "metadata": {
    "colab": {
     "base_uri": "https://localhost:8080/",
     "height": 204
    },
    "colab_type": "code",
    "id": "HgXMtSYaSNb7",
    "outputId": "f0441f22-8721-45ba-816e-131602964ace"
   },
   "outputs": [
    {
     "data": {
      "text/html": [
       "<div>\n",
       "<style scoped>\n",
       "    .dataframe tbody tr th:only-of-type {\n",
       "        vertical-align: middle;\n",
       "    }\n",
       "\n",
       "    .dataframe tbody tr th {\n",
       "        vertical-align: top;\n",
       "    }\n",
       "\n",
       "    .dataframe thead th {\n",
       "        text-align: right;\n",
       "    }\n",
       "</style>\n",
       "<table border=\"1\" class=\"dataframe\">\n",
       "  <thead>\n",
       "    <tr style=\"text-align: right;\">\n",
       "      <th></th>\n",
       "      <th>State</th>\n",
       "      <th>StrokeMortality</th>\n",
       "      <th>HeartDiseaseMortality</th>\n",
       "      <th>Death_Rate_x</th>\n",
       "    </tr>\n",
       "  </thead>\n",
       "  <tbody>\n",
       "    <tr>\n",
       "      <th>0</th>\n",
       "      <td>Alabama</td>\n",
       "      <td>51.450746</td>\n",
       "      <td>243.595522</td>\n",
       "      <td>3.247029</td>\n",
       "    </tr>\n",
       "    <tr>\n",
       "      <th>1</th>\n",
       "      <td>Arizona</td>\n",
       "      <td>30.900000</td>\n",
       "      <td>148.826667</td>\n",
       "      <td>3.810330</td>\n",
       "    </tr>\n",
       "    <tr>\n",
       "      <th>2</th>\n",
       "      <td>Arkansas</td>\n",
       "      <td>47.681333</td>\n",
       "      <td>235.172000</td>\n",
       "      <td>2.178899</td>\n",
       "    </tr>\n",
       "    <tr>\n",
       "      <th>3</th>\n",
       "      <td>California</td>\n",
       "      <td>37.891379</td>\n",
       "      <td>153.908621</td>\n",
       "      <td>3.738808</td>\n",
       "    </tr>\n",
       "    <tr>\n",
       "      <th>4</th>\n",
       "      <td>Colorado</td>\n",
       "      <td>32.851562</td>\n",
       "      <td>130.337500</td>\n",
       "      <td>4.299768</td>\n",
       "    </tr>\n",
       "  </tbody>\n",
       "</table>\n",
       "</div>"
      ],
      "text/plain": [
       "        State  StrokeMortality  HeartDiseaseMortality  Death_Rate_x\n",
       "0     Alabama        51.450746             243.595522      3.247029\n",
       "1     Arizona        30.900000             148.826667      3.810330\n",
       "2    Arkansas        47.681333             235.172000      2.178899\n",
       "3  California        37.891379             153.908621      3.738808\n",
       "4    Colorado        32.851562             130.337500      4.299768"
      ]
     },
     "execution_count": 129,
     "metadata": {},
     "output_type": "execute_result"
    }
   ],
   "source": [
    "impact_stroke_heart = impact_stroke.merge(impact_heart, on='State')[['State', 'StrokeMortality', 'HeartDiseaseMortality', 'Death_Rate_x']]\n",
    "impact_stroke_heart.head()"
   ]
  },
  {
   "cell_type": "markdown",
   "metadata": {
    "colab_type": "text",
    "id": "_OKSMNh4ikyS"
   },
   "source": [
    "We then extract the two covariates we hope to use to build our model, which in this case are the StrokeMortality and HeartDiseaseMortality. We assign this reduced dataframe to the value X. We then assign Y to an array representing the corresponding Date Rate values for each state."
   ]
  },
  {
   "cell_type": "code",
   "execution_count": 130,
   "metadata": {
    "colab": {
     "base_uri": "https://localhost:8080/",
     "height": 204
    },
    "colab_type": "code",
    "id": "Gp6gBWNmiqIQ",
    "outputId": "447834bb-be37-4a27-9966-7f4b778db8b1"
   },
   "outputs": [
    {
     "data": {
      "text/html": [
       "<div>\n",
       "<style scoped>\n",
       "    .dataframe tbody tr th:only-of-type {\n",
       "        vertical-align: middle;\n",
       "    }\n",
       "\n",
       "    .dataframe tbody tr th {\n",
       "        vertical-align: top;\n",
       "    }\n",
       "\n",
       "    .dataframe thead th {\n",
       "        text-align: right;\n",
       "    }\n",
       "</style>\n",
       "<table border=\"1\" class=\"dataframe\">\n",
       "  <thead>\n",
       "    <tr style=\"text-align: right;\">\n",
       "      <th></th>\n",
       "      <th>StrokeMortality</th>\n",
       "      <th>HeartDiseaseMortality</th>\n",
       "    </tr>\n",
       "  </thead>\n",
       "  <tbody>\n",
       "    <tr>\n",
       "      <th>0</th>\n",
       "      <td>51.450746</td>\n",
       "      <td>243.595522</td>\n",
       "    </tr>\n",
       "    <tr>\n",
       "      <th>1</th>\n",
       "      <td>30.900000</td>\n",
       "      <td>148.826667</td>\n",
       "    </tr>\n",
       "    <tr>\n",
       "      <th>2</th>\n",
       "      <td>47.681333</td>\n",
       "      <td>235.172000</td>\n",
       "    </tr>\n",
       "    <tr>\n",
       "      <th>3</th>\n",
       "      <td>37.891379</td>\n",
       "      <td>153.908621</td>\n",
       "    </tr>\n",
       "    <tr>\n",
       "      <th>4</th>\n",
       "      <td>32.851562</td>\n",
       "      <td>130.337500</td>\n",
       "    </tr>\n",
       "  </tbody>\n",
       "</table>\n",
       "</div>"
      ],
      "text/plain": [
       "   StrokeMortality  HeartDiseaseMortality\n",
       "0        51.450746             243.595522\n",
       "1        30.900000             148.826667\n",
       "2        47.681333             235.172000\n",
       "3        37.891379             153.908621\n",
       "4        32.851562             130.337500"
      ]
     },
     "execution_count": 130,
     "metadata": {},
     "output_type": "execute_result"
    }
   ],
   "source": [
    "X_death = impact_stroke_heart[['StrokeMortality', 'HeartDiseaseMortality']]\n",
    "X_death.head()"
   ]
  },
  {
   "cell_type": "code",
   "execution_count": 131,
   "metadata": {
    "colab": {
     "base_uri": "https://localhost:8080/",
     "height": 187
    },
    "colab_type": "code",
    "id": "IXdyJpQcSNW9",
    "outputId": "bdc51bbe-8a74-4e19-f0d2-af2806851ca4"
   },
   "outputs": [
    {
     "data": {
      "text/plain": [
       "array([3.24702886, 3.81033023, 2.17889908, 3.73880817, 4.29976788,\n",
       "       6.18803419, 2.63987392, 2.93425388, 3.8089309 , 2.59818731,\n",
       "       4.3175583 , 5.12169909, 2.94468762, 4.66776496, 5.31954193,\n",
       "       5.37319763, 3.77804014, 3.41554438, 3.86011217, 7.49569679,\n",
       "       5.47759167, 3.8248616 , 3.53109876, 2.34741784, 1.92153723,\n",
       "       4.16436845, 2.83159463, 4.9987718 , 2.94771969, 7.31076653,\n",
       "       2.9551201 , 1.70454545, 4.41205244, 5.51724138, 3.90455531,\n",
       "       3.29205106, 3.05054554, 2.80131827, 0.4539559 , 2.155107  ,\n",
       "       2.54491018, 0.85704491, 4.73225405, 3.20377499, 5.20550272,\n",
       "       2.03821656, 5.04882115, 0.64724919])"
      ]
     },
     "execution_count": 131,
     "metadata": {},
     "output_type": "execute_result"
    }
   ],
   "source": [
    "Y_death = np.array(impact_stroke_heart['Death_Rate_x'])\n",
    "Y_death"
   ]
  },
  {
   "cell_type": "markdown",
   "metadata": {
    "colab_type": "text",
    "id": "AU4J55eyiSVp"
   },
   "source": [
    "We perform a train-test split below."
   ]
  },
  {
   "cell_type": "code",
   "execution_count": 132,
   "metadata": {
    "colab": {},
    "colab_type": "code",
    "id": "tBy1A6hZSNU4"
   },
   "outputs": [],
   "source": [
    "np.random.seed(41)\n",
    "X_death_train, X_death_test, Y_death_train, Y_death_test = train_test_split(X_death, Y_death, test_size = 0.10)"
   ]
  },
  {
   "cell_type": "markdown",
   "metadata": {
    "colab_type": "text",
    "id": "xnYOOEQdkwkP"
   },
   "source": [
    "Let's take another look at X_death."
   ]
  },
  {
   "cell_type": "code",
   "execution_count": 133,
   "metadata": {
    "colab": {
     "base_uri": "https://localhost:8080/",
     "height": 204
    },
    "colab_type": "code",
    "id": "U9eikw3_k717",
    "outputId": "aa25453a-540e-449b-fdc1-7e4b22ab0e7a"
   },
   "outputs": [
    {
     "data": {
      "text/html": [
       "<div>\n",
       "<style scoped>\n",
       "    .dataframe tbody tr th:only-of-type {\n",
       "        vertical-align: middle;\n",
       "    }\n",
       "\n",
       "    .dataframe tbody tr th {\n",
       "        vertical-align: top;\n",
       "    }\n",
       "\n",
       "    .dataframe thead th {\n",
       "        text-align: right;\n",
       "    }\n",
       "</style>\n",
       "<table border=\"1\" class=\"dataframe\">\n",
       "  <thead>\n",
       "    <tr style=\"text-align: right;\">\n",
       "      <th></th>\n",
       "      <th>StrokeMortality</th>\n",
       "      <th>HeartDiseaseMortality</th>\n",
       "    </tr>\n",
       "  </thead>\n",
       "  <tbody>\n",
       "    <tr>\n",
       "      <th>0</th>\n",
       "      <td>51.450746</td>\n",
       "      <td>243.595522</td>\n",
       "    </tr>\n",
       "    <tr>\n",
       "      <th>1</th>\n",
       "      <td>30.900000</td>\n",
       "      <td>148.826667</td>\n",
       "    </tr>\n",
       "    <tr>\n",
       "      <th>2</th>\n",
       "      <td>47.681333</td>\n",
       "      <td>235.172000</td>\n",
       "    </tr>\n",
       "    <tr>\n",
       "      <th>3</th>\n",
       "      <td>37.891379</td>\n",
       "      <td>153.908621</td>\n",
       "    </tr>\n",
       "    <tr>\n",
       "      <th>4</th>\n",
       "      <td>32.851562</td>\n",
       "      <td>130.337500</td>\n",
       "    </tr>\n",
       "  </tbody>\n",
       "</table>\n",
       "</div>"
      ],
      "text/plain": [
       "   StrokeMortality  HeartDiseaseMortality\n",
       "0        51.450746             243.595522\n",
       "1        30.900000             148.826667\n",
       "2        47.681333             235.172000\n",
       "3        37.891379             153.908621\n",
       "4        32.851562             130.337500"
      ]
     },
     "execution_count": 133,
     "metadata": {},
     "output_type": "execute_result"
    }
   ],
   "source": [
    "X_death.head()"
   ]
  },
  {
   "cell_type": "markdown",
   "metadata": {
    "colab_type": "text",
    "id": "St2Ablh-k_7C"
   },
   "source": [
    "There is a key issue here: the range of HeartDiseaseMorality values is considerably greater than that of the StrokeMortality column. Therefore, we will normalize the data using the function written below."
   ]
  },
  {
   "cell_type": "code",
   "execution_count": 134,
   "metadata": {
    "colab": {
     "base_uri": "https://localhost:8080/",
     "height": 204
    },
    "colab_type": "code",
    "id": "NNeVdKtwkwzz",
    "outputId": "7a66e3d1-935d-4fcd-c434-62aa552b9ab8"
   },
   "outputs": [
    {
     "data": {
      "text/html": [
       "<div>\n",
       "<style scoped>\n",
       "    .dataframe tbody tr th:only-of-type {\n",
       "        vertical-align: middle;\n",
       "    }\n",
       "\n",
       "    .dataframe tbody tr th {\n",
       "        vertical-align: top;\n",
       "    }\n",
       "\n",
       "    .dataframe thead th {\n",
       "        text-align: right;\n",
       "    }\n",
       "</style>\n",
       "<table border=\"1\" class=\"dataframe\">\n",
       "  <thead>\n",
       "    <tr style=\"text-align: right;\">\n",
       "      <th></th>\n",
       "      <th>StrokeMortality</th>\n",
       "      <th>HeartDiseaseMortality</th>\n",
       "    </tr>\n",
       "  </thead>\n",
       "  <tbody>\n",
       "    <tr>\n",
       "      <th>9</th>\n",
       "      <td>-0.421362</td>\n",
       "      <td>-0.731426</td>\n",
       "    </tr>\n",
       "    <tr>\n",
       "      <th>8</th>\n",
       "      <td>1.365115</td>\n",
       "      <td>0.813343</td>\n",
       "    </tr>\n",
       "    <tr>\n",
       "      <th>7</th>\n",
       "      <td>-0.198223</td>\n",
       "      <td>-0.316826</td>\n",
       "    </tr>\n",
       "    <tr>\n",
       "      <th>10</th>\n",
       "      <td>0.153105</td>\n",
       "      <td>0.145569</td>\n",
       "    </tr>\n",
       "    <tr>\n",
       "      <th>30</th>\n",
       "      <td>0.947855</td>\n",
       "      <td>-0.180662</td>\n",
       "    </tr>\n",
       "  </tbody>\n",
       "</table>\n",
       "</div>"
      ],
      "text/plain": [
       "    StrokeMortality  HeartDiseaseMortality\n",
       "9         -0.421362              -0.731426\n",
       "8          1.365115               0.813343\n",
       "7         -0.198223              -0.316826\n",
       "10         0.153105               0.145569\n",
       "30         0.947855              -0.180662"
      ]
     },
     "execution_count": 134,
     "metadata": {},
     "output_type": "execute_result"
    }
   ],
   "source": [
    "def normalize(data):\n",
    "\n",
    "    output = (data - np.mean(data))/np.std(data)\n",
    "    return output.replace(np.nan, 0)\n",
    "    \n",
    "X_normalized = normalize(X_death_train)\n",
    "X_normalized.head()"
   ]
  },
  {
   "cell_type": "markdown",
   "metadata": {
    "colab_type": "text",
    "id": "awVBM-F_i7m4"
   },
   "source": [
    "We can now build a linear model because the values of data are continuous, not categorical."
   ]
  },
  {
   "cell_type": "code",
   "execution_count": 135,
   "metadata": {
    "colab": {
     "base_uri": "https://localhost:8080/",
     "height": 34
    },
    "colab_type": "code",
    "id": "9Tdx_YhUi67t",
    "outputId": "78d4eb00-f570-451d-a711-48fdbf9ac73f"
   },
   "outputs": [
    {
     "data": {
      "text/plain": [
       "LinearRegression(copy_X=True, fit_intercept=True, n_jobs=None, normalize=False)"
      ]
     },
     "execution_count": 135,
     "metadata": {},
     "output_type": "execute_result"
    }
   ],
   "source": [
    "linear_model_death = lm.LinearRegression(fit_intercept=True)\n",
    "linear_model_death.fit(normalize(X_death_train), Y_death_train)"
   ]
  },
  {
   "cell_type": "markdown",
   "metadata": {
    "colab_type": "text",
    "id": "rDL4r5q3kBSz"
   },
   "source": [
    "Let's then compute both the fitted and the predicted values of the training subset of data."
   ]
  },
  {
   "cell_type": "code",
   "execution_count": 136,
   "metadata": {
    "colab": {
     "base_uri": "https://localhost:8080/",
     "height": 170
    },
    "colab_type": "code",
    "id": "7Sd0rfjbSNSp",
    "outputId": "7d0dae19-b2ea-488e-d8b5-522a52393eb9"
   },
   "outputs": [
    {
     "data": {
      "text/plain": [
       "array([3.46220334, 3.16032728, 3.5687573 , 3.61261517, 2.81872223,\n",
       "       4.38792488, 3.59985028, 2.73420408, 3.94081903, 3.87485485,\n",
       "       3.41736583, 4.01106084, 3.32429171, 4.2140195 , 3.35894888,\n",
       "       4.01305121, 3.55701167, 3.1739369 , 3.68344045, 3.62890312,\n",
       "       3.66994017, 4.49083407, 3.31545872, 3.05778974, 3.63131047,\n",
       "       3.46103523, 3.69929721, 3.85866328, 3.89783579, 3.27456579,\n",
       "       3.26797968, 3.63981956, 3.19737566, 4.29411408, 3.4540124 ,\n",
       "       3.61073748, 4.69172615, 3.94373789, 3.72916341, 3.01089851,\n",
       "       3.97982372, 3.96923833, 3.39840775])"
      ]
     },
     "execution_count": 136,
     "metadata": {},
     "output_type": "execute_result"
    }
   ],
   "source": [
    "linear_model_death.predict(normalize(X_death_train))"
   ]
  },
  {
   "cell_type": "code",
   "execution_count": 137,
   "metadata": {
    "colab": {
     "base_uri": "https://localhost:8080/",
     "height": 34
    },
    "colab_type": "code",
    "id": "BX6d7JKpSNQf",
    "outputId": "8b03d6ca-1ad8-4082-fe33-208bbf9228f4"
   },
   "outputs": [
    {
     "data": {
      "text/plain": [
       "1.3330380185565134"
      ]
     },
     "execution_count": 137,
     "metadata": {},
     "output_type": "execute_result"
    }
   ],
   "source": [
    "rmse(linear_model_death.predict(normalize(X_death_train)), Y_death_train)"
   ]
  },
  {
   "cell_type": "markdown",
   "metadata": {
    "colab_type": "text",
    "id": "1SjCPWAY1B3N"
   },
   "source": [
    "Again, we will create a seaborn regression plot visualization to analyze the relationship between the residuals and the death rate based on test data for the death rate subset."
   ]
  },
  {
   "cell_type": "code",
   "execution_count": 138,
   "metadata": {
    "colab": {
     "base_uri": "https://localhost:8080/",
     "height": 295
    },
    "colab_type": "code",
    "id": "BriEr4LE1BXg",
    "outputId": "e8b5a6b4-04ce-447c-fb5d-0e5a75b707a2"
   },
   "outputs": [
    {
     "data": {
      "image/png": "[encoded data removed]",
      "text/plain": [
       "<Figure size 432x288 with 1 Axes>"
      ]
     },
     "metadata": {
      "needs_background": "light"
     },
     "output_type": "display_data"
    }
   ],
   "source": [
    "#Ideally, we would see a horizontal line of points at 0.\n",
    "\n",
    "residuals = Y_death_test - linear_model_death.predict(normalize(X_death_test))\n",
    "ax = sns.regplot(Y_death_test, residuals)\n",
    "ax.set_xlabel('Death Rate (Test Data)')\n",
    "ax.set_ylabel('Residuals (Actual Rate - Predicted Rate)')\n",
    "ax.set_title(\"Residuals vs. Death Rate on Test Data\");"
   ]
  },
  {
   "cell_type": "markdown",
   "metadata": {
    "colab_type": "text",
    "id": "7MpeZTXU1Qvg"
   },
   "source": [
    "Again, because the line is not horizontal at 0, this shows that the model does not do a great job predicting the death rate of those who have COVID-19 given the two chosen pre-existing health conditions."
   ]
  },
  {
   "cell_type": "markdown",
   "metadata": {
    "colab_type": "text",
    "id": "MOPU8TBelg9R"
   },
   "source": [
    "The resulting rmse for the death rate linear model is approximately 1.33.\n",
    "This is considerably lower than the rmse value for the positive rate linear model which is 8.71. However, note that these two models are predicting two very different things. Now, let's look at the test rmse values for each model."
   ]
  },
  {
   "cell_type": "code",
   "execution_count": 139,
   "metadata": {
    "colab": {
     "base_uri": "https://localhost:8080/",
     "height": 51
    },
    "colab_type": "code",
    "id": "-nzlnE1Hl1qr",
    "outputId": "9c2eb117-a9a2-4563-8123-cc38efb1f5ea"
   },
   "outputs": [
    {
     "name": "stdout",
     "output_type": "stream",
     "text": [
      "The Positive Rate Test RMSE is 12.415774235660875\n",
      "The Death Rate Test RMSE is 2.040475048553118\n"
     ]
    }
   ],
   "source": [
    "Positive_Rate_Test_RMSE = rmse(linear_model_positive.predict(X_positive_test), Y_positive_test)\n",
    "Death_Rate_Test_RMSE = rmse(linear_model_death.predict(normalize(X_death_test)), Y_death_test)\n",
    "\n",
    "print(\"The Positive Rate Test RMSE is {}\".format(Positive_Rate_Test_RMSE))\n",
    "print(\"The Death Rate Test RMSE is {}\".format(Death_Rate_Test_RMSE))"
   ]
  },
  {
   "cell_type": "markdown",
   "metadata": {
    "colab_type": "text",
    "id": "7VeeyN517e-Z"
   },
   "source": [
    "As shown, the Death Rate RMSE on the test set of data for the two chosen health condition covariates is significantly lower than that of the Positive Rate RMSE. To observe this difference further, let's compare the R^2 scores for both models."
   ]
  },
  {
   "cell_type": "markdown",
   "metadata": {
    "colab_type": "text",
    "id": "vCMlf09B5jLy"
   },
   "source": [
    "Below, compare the R^2 score for each model we built. This will help us observe the goodness of fit of the model on a scale from 0-1."
   ]
  },
  {
   "cell_type": "code",
   "execution_count": 140,
   "metadata": {
    "colab": {
     "base_uri": "https://localhost:8080/",
     "height": 51
    },
    "colab_type": "code",
    "id": "A0wpnAPU5x7e",
    "outputId": "05a56db8-bf84-4e3b-8a29-6842bfebdba4"
   },
   "outputs": [
    {
     "name": "stdout",
     "output_type": "stream",
     "text": [
      "The Positive Rate Test R^2 is 0.015198609973639088\n",
      "The Death Rate Test R^2 is 0.18153087414541635\n"
     ]
    }
   ],
   "source": [
    "#Best possible value is 1.0 as r^2 measures goodness of fit\n",
    "\n",
    "from sklearn.metrics import r2_score\n",
    "\n",
    "Positive_Rate_Test_R2 = r2_score(Y_positive_test, linear_model_positive.predict(X_positive_test))\n",
    "Death_Rate_Test_R2 = r2_score(Y_death_test, linear_model_death.predict(normalize(X_death_test)))\n",
    "\n",
    "print(\"The Positive Rate Test R^2 is {}\".format(Positive_Rate_Test_R2))\n",
    "print(\"The Death Rate Test R^2 is {}\".format(Death_Rate_Test_R2))"
   ]
  },
  {
   "cell_type": "markdown",
   "metadata": {
    "colab_type": "text",
    "id": "ZFgI__oAmmDP"
   },
   "source": [
    "Conclusion: The models we built above are far from perfect in their ability to predict whether an individual has a higher likelihood of testing positive or dying from COVID-19 given selected pre-existing health conditions. However, these models are not entirely imperfect either. For instance, the R^2 value of 0.18 demonstrates that some part of the death rate can be explained using pre-existing conditions.\n"
   ]
  },
  {
   "cell_type": "code",
   "execution_count": null,
   "metadata": {
    "colab": {},
    "colab_type": "code",
    "id": "11wxUaYYJ13d"
   },
   "outputs": [],
   "source": []
  }
 ],
 "metadata": {
  "colab": {
   "collapsed_sections": [
    "nGTu5uAfxzHR",
    "QOl_LHeLF30u",
    "5YFNVGGdMLpl",
    "dPLvAYJfHYfv",
    "pr34BCUQLYlG",
    "nmg7zJuvMiT_"
   ],
   "name": "DS100 Final.ipynb",
   "provenance": []
  },
  "kernelspec": {
   "display_name": "Python 3",
   "language": "python",
   "name": "python3"
  },
  "language_info": {
   "codemirror_mode": {
    "name": "ipython",
    "version": 3
   },
   "file_extension": ".py",
   "mimetype": "text/x-python",
   "name": "python",
   "nbconvert_exporter": "python",
   "pygments_lexer": "ipython3",
   "version": "3.7.6"
  }
 },
 "nbformat": 4,
 "nbformat_minor": 1
}
